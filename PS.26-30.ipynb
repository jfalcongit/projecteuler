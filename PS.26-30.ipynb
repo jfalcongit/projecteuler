{
 "cells": [
  {
   "cell_type": "markdown",
   "metadata": {},
   "source": [
    "# Project Euler Problem Set in Python\n",
    "### Problems 26 - 30"
   ]
  },
  {
   "cell_type": "markdown",
   "metadata": {},
   "source": [
    "## Reciprocal cycles\n",
    "### Problem #26\n",
    "\n",
    "A unit fraction contains 1 in the numerator. The decimal representation of the unit fractions with denominators 2 to 10 are given:\n",
    "\n",
    "&emsp; 1/2\t= \t0.5  \n",
    "&emsp; 1/3\t= \t0.(3)  \n",
    "&emsp; 1/4\t= \t0.25  \n",
    "&emsp; 1/5\t= \t0.2  \n",
    "&emsp; 1/6\t= \t0.1(6)  \n",
    "&emsp; 1/7\t= \t0.(142857)  \n",
    "&emsp; 1/8\t= \t0.125  \n",
    "&emsp; 1/9\t= \t0.(1)  \n",
    "&emsp; 1/10\t= \t0.1  \n",
    "\n",
    "Where 0.1(6) means 0.166666..., and has a 1-digit recurring cycle. It can be seen that 1/7 has a 6-digit recurring cycle.\n",
    "\n",
    "Find the value of d < 1000 for which 1/d contains the longest recurring cycle in its decimal fraction part."
   ]
  },
  {
   "cell_type": "code",
   "execution_count": 1,
   "metadata": {},
   "outputs": [],
   "source": [
    "import itertools\n",
    "        \n",
    "def reciprocal_cycle_len(d: int) -> int:\n",
    "    \"\"\"returns the cycle len of d\"\"\"\n",
    "    seen = {}\n",
    "    r = 1\n",
    "    for i in itertools.count():\n",
    "        if r in seen:\n",
    "            return i - seen[r]\n",
    "        seen[r] = i\n",
    "        r = r*10 % d"
   ]
  },
  {
   "cell_type": "code",
   "execution_count": 2,
   "metadata": {},
   "outputs": [],
   "source": [
    "# version 1\n",
    "assert max(range(7,1000), key=reciprocal_cycle_len) == 983"
   ]
  },
  {
   "cell_type": "code",
   "execution_count": 3,
   "metadata": {},
   "outputs": [],
   "source": [
    "def max_reciprocal_cycle(n: int) -> (int, int):\n",
    "    \"\"\"\n",
    "    returns (d, k) where d in [7, n) has the maximal-cycle-len: k\n",
    "    see: https://mathworld.wolfram.com/FullReptendPrime.html\n",
    "    \"\"\"\n",
    "    if n < 7: raise ValueError('n must be > 6')\n",
    "    if n%2 == 0: n -= 1\n",
    "    for d in range(n, 6, -2):\n",
    "        k = d - 1\n",
    "        if 10**k % d == 1 and reciprocal_cycle_len(d) == k:\n",
    "            return d, k"
   ]
  },
  {
   "cell_type": "code",
   "execution_count": 4,
   "metadata": {},
   "outputs": [],
   "source": [
    "# version 2\n",
    "assert max_reciprocal_cycle(1000) == (983,982)"
   ]
  },
  {
   "cell_type": "markdown",
   "metadata": {},
   "source": [
    "#### Answer: 983\n",
    "---"
   ]
  },
  {
   "cell_type": "markdown",
   "metadata": {},
   "source": [
    "## Quadratic primes\n",
    "### Problem #27\n",
    "\n",
    "Euler discovered the remarkable quadratic formula:\n",
    "\n",
    "$$\n",
    "n^2+n+41\n",
    "$$\n",
    "\n",
    "It turns out that the formula will produce $40$ primes for the consecutive integer values $0≤n≤39$. However, when $n=40$, $40^2+40+41=40(40+1)+41$ is divisible by $41$, and certainly when $n=41$, $41^2+41+41$ is clearly divisible by $41$.\n",
    "\n",
    "The incredible formula $n^2−79n+1601$ was discovered, which produces $80$ primes for the consecutive values $0≤n≤79$.  \n",
    "The product of the coefficients, $−79$ and $1601$, is $−126479$.\n",
    "\n",
    "Considering quadratics of the form:\n",
    "\n",
    "$n^2+an+b$, where $|a|<1000$ and $|b|≤1000$\n",
    "\n",
    "where $|n|$ is the modulus/absolute value of $n$\n",
    "e.g. $|11|=11$ and $|−4|=4$\n",
    "\n",
    "Find the product of the coefficients, a and b, for the quadratic expression that produces the maximum number of primes for consecutive values of $n$, starting with $n=0$."
   ]
  },
  {
   "cell_type": "code",
   "execution_count": 2,
   "metadata": {},
   "outputs": [],
   "source": [
    "from math import sqrt\n",
    "\n",
    "def get_prime_sieve(n: int) -> list:\n",
    "    \"\"\"list of bools indicating primality of odd numbers k, 1 < k < n\"\"\"\n",
    "    pt = [True]*(n>>1)\n",
    "    for i in range(3, int(sqrt(n)), 2):\n",
    "        if not pt[(i-3)>>1]: continue\n",
    "        for j in range(i*i, n, i):\n",
    "            if j&1: pt[(j-3)>>1] = False\n",
    "    return pt\n",
    "            \n",
    "def is_prime(p:int, sieve:list) -> bool:\n",
    "    \"\"\"True in p is prime, using a pre-generated prime sieve\"\"\"\n",
    "    if p < 2: return False\n",
    "    return sieve[(p-3)>>1] if p&1 else p==2"
   ]
  },
  {
   "cell_type": "code",
   "execution_count": 3,
   "metadata": {},
   "outputs": [],
   "source": [
    "import itertools\n",
    "\n",
    "def count_quad_primes(a: int, b: int, sieve: list) -> int:\n",
    "    \"\"\"\n",
    "    counts the number of primes produced by: n^2 + an + b\" \n",
    "    using a pre-generated prime sieve\n",
    "    \"\"\"\n",
    "    for n in itertools.count():\n",
    "        if not is_prime(n*n + a*n + b, sieve): return n"
   ]
  },
  {
   "cell_type": "code",
   "execution_count": 4,
   "metadata": {},
   "outputs": [],
   "source": [
    "N = 15000\n",
    "ps = get_prime_sieve(N)"
   ]
  },
  {
   "cell_type": "code",
   "execution_count": 5,
   "metadata": {},
   "outputs": [],
   "source": [
    "# since n^2+an+b = b for n == 0, b must be prime, \n",
    "# since n^2+an+b = 1+a+b for n == 1, a must be odd\n",
    "_, a, b = max((count_quad_primes(a, b, ps), a, b) \n",
    "              for a in range(-999, 999, 2) for b in range(3, 999,2 ) if is_prime(b, ps))\n",
    "\n",
    "assert a*b == -59231"
   ]
  },
  {
   "cell_type": "markdown",
   "metadata": {},
   "source": [
    "#### Answer: -59231\n",
    "---"
   ]
  },
  {
   "cell_type": "markdown",
   "metadata": {},
   "source": [
    "## Number spiral diagonals\n",
    "### Problem #28\n",
    "\n",
    "Starting with the number 1 and moving to the right in a clockwise direction a 5 by 5 spiral is formed as follows:\n",
    "\n",
    "<p><center><pre>\n",
    "<b>21</b> 22 23 24 <b>25</b>\n",
    "20  <b>7</b>  8  <b>9</b> 10\n",
    "19  6  <b>1</b>  2 11\n",
    "18  <b>5</b>  4  <b>3</b> 12\n",
    "<b>17</b> 16 15 14 <b>13</b>\n",
    "</pre></center></p>\n",
    "\n",
    "It can be verified that the sum of the numbers on the diagonals is 101.\n",
    "\n",
    "What is the sum of the numbers on the diagonals in a 1001 by 1001 spiral formed in the same way?"
   ]
  },
  {
   "cell_type": "code",
   "execution_count": 9,
   "metadata": {},
   "outputs": [],
   "source": [
    "def sum_spiral_diag(size: int) -> int: \n",
    "    \"returns the sum of a spiral diagonals\"\n",
    "    \"size must be odd\"\n",
    "    spacing = 2 \n",
    "    current = 1 \n",
    "    sumdiag = current\n",
    "    while spacing != size + 1: \n",
    "        for i in range(4):\n",
    "            current += spacing \n",
    "            sumdiag += current\n",
    "        spacing += 2 \n",
    "    return sumdiag"
   ]
  },
  {
   "cell_type": "code",
   "execution_count": 10,
   "metadata": {},
   "outputs": [],
   "source": [
    "assert sum_spiral_diag(1001) == 669171001"
   ]
  },
  {
   "cell_type": "code",
   "execution_count": 11,
   "metadata": {},
   "outputs": [],
   "source": [
    "assert sum(4*i*i - 6*(i-1) for i in range(3,1002,2)) + 1 == 669171001"
   ]
  },
  {
   "cell_type": "markdown",
   "metadata": {},
   "source": [
    "#### Answer: 669171001\n",
    "---"
   ]
  },
  {
   "cell_type": "markdown",
   "metadata": {},
   "source": [
    "## Distinct powers\n",
    "### Problem #29\n",
    "\n",
    "Consider all integer combinations of $a^b$ for $2 ≤ a ≤ 5$ and $2 ≤ b ≤ 5$:\n",
    "\n",
    "$\\quad 2^2=4$, $2^3=8$, $2^4=16$, $2^5=32$  \n",
    "$\\quad 3^2=9$, $3^3=27$, $3^4=81$, $3^5=243$  \n",
    "$\\quad 4^2=16$, $4^3=64$, $4^4=256$, $4^5=1024$  \n",
    "$\\quad 5^2=25$, $5^3=125$, $5^4=625$, $5^5=3125$  \n",
    "\n",
    "If they are then placed in numerical order, with any repeats removed, we get the following sequence of 15 distinct terms:\n",
    "\n",
    "$4, 8, 9, 16, 25, 27, 32, 64, 81, 125, 243, 256, 625, 1024, 3125$\n",
    "\n",
    "How many distinct terms are in the sequence generated by $a^b$ for $2 ≤ a ≤ 100$ and $2 ≤ b ≤ 100$?"
   ]
  },
  {
   "cell_type": "code",
   "execution_count": 12,
   "metadata": {},
   "outputs": [],
   "source": [
    "# set removes dulpicates\n",
    "assert len({a**b for a in range(2,101) for b in range(2,101)}) == 9183"
   ]
  },
  {
   "cell_type": "markdown",
   "metadata": {},
   "source": [
    "#### Answer: 9183\n",
    "---"
   ]
  },
  {
   "cell_type": "markdown",
   "metadata": {},
   "source": [
    "## Digit fifth powers\n",
    "### Problem #30\n",
    "\n",
    "Surprisingly there are only three numbers that can be written as the sum of fourth powers of their digits:\n",
    "\n",
    "$\\quad 1634 = 1^4 + 6^4 + 3^4 + 4^4$  \n",
    "$\\quad 8208 = 8^4 + 2^4 + 0^4 + 8^4$  \n",
    "$\\quad 9474 = 9^4 + 4^4 + 7^4 + 4^4$  \n",
    "\n",
    "As $1 = 1^4$ is not a sum it is not included.\n",
    "\n",
    "The sum of these numbers is $1634 + 8208 + 9474 = 19316$.\n",
    "\n",
    "Find the sum of all the numbers that can be written as the sum of fifth powers of their digits."
   ]
  },
  {
   "cell_type": "code",
   "execution_count": 13,
   "metadata": {},
   "outputs": [],
   "source": [
    "def sum_digitpow(n:int, e:int) -> int:\n",
    "    \"\"\"sum digits of n pow e\"\"\"\n",
    "    s = 0\n",
    "    while n > 0:\n",
    "        s += (n%10)**e\n",
    "        n //= 10\n",
    "    return s"
   ]
  },
  {
   "cell_type": "code",
   "execution_count": 14,
   "metadata": {},
   "outputs": [],
   "source": [
    "# for numbers with less than 4 or more than 6 digits, there are mo solutions\n",
    "assert sum(n for n in range(3000, 999999) if n == sum_digitpow(n,5)) == 443839"
   ]
  },
  {
   "cell_type": "code",
   "execution_count": 15,
   "metadata": {},
   "outputs": [],
   "source": [
    "# optimized pow for d**5\n",
    "_pow5 = [d**5 for d in range(10)]\n",
    "\n",
    "def sum_digitpow5(n: int) -> int:\n",
    "    \"\"\"sum digits of n pow 5\"\"\"\n",
    "    s = 0\n",
    "    while n > 0:\n",
    "        s += _pow5[(n%10)]\n",
    "        n //= 10\n",
    "    return s"
   ]
  },
  {
   "cell_type": "code",
   "execution_count": 16,
   "metadata": {},
   "outputs": [],
   "source": [
    "assert sum(n for n in range(3000,999999) if n == sum_digitpow5(n)) == 443839"
   ]
  },
  {
   "cell_type": "markdown",
   "metadata": {},
   "source": [
    "#### Answer: 443839\n",
    "---"
   ]
  },
  {
   "cell_type": "code",
   "execution_count": null,
   "metadata": {},
   "outputs": [],
   "source": []
  }
 ],
 "metadata": {
  "kernelspec": {
   "display_name": "Python 3",
   "language": "python",
   "name": "python3"
  },
  "language_info": {
   "codemirror_mode": {
    "name": "ipython",
    "version": 3
   },
   "file_extension": ".py",
   "mimetype": "text/x-python",
   "name": "python",
   "nbconvert_exporter": "python",
   "pygments_lexer": "ipython3",
   "version": "3.7.6"
  }
 },
 "nbformat": 4,
 "nbformat_minor": 4
}
