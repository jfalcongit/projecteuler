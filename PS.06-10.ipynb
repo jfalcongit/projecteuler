{
 "cells": [
  {
   "cell_type": "markdown",
   "metadata": {},
   "source": [
    "# Project Euler Problem Set in Python\n",
    "### Problems 6 - 10"
   ]
  },
  {
   "cell_type": "markdown",
   "metadata": {},
   "source": [
    "## Sum square difference\n",
    "### Problem #6\n",
    "\n",
    "The sum of the squares of the first ten natural numbers is,\n",
    "\n",
    "$$ \n",
    "1^2 + 2^2 + ... + 10^2 = 385 \n",
    "$$\n",
    "\n",
    "The square of the sum of the first ten natural numbers is,\n",
    "\n",
    "$$ \n",
    "(1 + 2 + ... + 10)^2 = 55^2 = 3025 \n",
    "$$\n",
    "\n",
    "Find the difference between the sum of the squares of the first one hundred natural numbers and the square of the sum."
   ]
  },
  {
   "cell_type": "markdown",
   "metadata": {},
   "source": [
    "#### Solution\n",
    "\n",
    "Summation formula:&emsp; $ n(n+1)/2 $\n",
    "\n",
    "Formula for squares:&emsp; $ n(n+1)(2n+1)/6 $"
   ]
  },
  {
   "cell_type": "code",
   "execution_count": 1,
   "metadata": {},
   "outputs": [],
   "source": [
    "_sum = lambda n: n*(n+1)//2\n",
    "_ssq = lambda n: n*(n+1)*(2*n+1)//6 \n",
    "\n",
    "assert _sum(100)**2 - _ssq(100) == 25164150"
   ]
  },
  {
   "cell_type": "code",
   "execution_count": 2,
   "metadata": {},
   "outputs": [],
   "source": [
    "# trivial one-liner\n",
    "assert sum(range(1,101))**2 - sum(map(lambda n:n**2, range(1,101))) == 25164150"
   ]
  },
  {
   "cell_type": "markdown",
   "metadata": {},
   "source": [
    "#### Answer: 25164150\n",
    "---"
   ]
  },
  {
   "cell_type": "markdown",
   "metadata": {},
   "source": [
    "## 10001st prime\n",
    "### Problem #7\n",
    "\n",
    "By listing the first six prime numbers: 2, 3, 5, 7, 11, and 13, we can see that the 6th prime is 13.\n",
    "\n",
    "What is the 10.001st prime number?"
   ]
  },
  {
   "cell_type": "markdown",
   "metadata": {},
   "source": [
    "#### Solution\n",
    "\n",
    "Trivial: iterate checking for primes until the desired index.\n",
    "\n",
    "*is_prime* implements a fast check, later will use other methods."
   ]
  },
  {
   "cell_type": "code",
   "execution_count": 3,
   "metadata": {},
   "outputs": [],
   "source": [
    "from math import sqrt\n",
    "\n",
    "def is_prime(n: int) -> int:\n",
    "    \"\"\"fast-checks if n is prime\"\"\"\n",
    "    if n < 2: return False\n",
    "    if n < 4: return True\n",
    "    if n%2==0: return False\n",
    "    if n < 9: return True\n",
    "    if n%3==0: return False\n",
    "    l = int(sqrt(n)) \n",
    "    f = 5\n",
    "    while f <= l:\n",
    "        if n%f==0: return False\n",
    "        if n%(f+2)==0: return False\n",
    "        f += 6\n",
    "    return True\n",
    "\n",
    "def prime_at(index: int) -> int:\n",
    "    \"\"\"prime at pos index\"\"\"\n",
    "    if index == 1: return 2\n",
    "    i, n = 2, 3\n",
    "    while i < index:\n",
    "        n += 2\n",
    "        if is_prime(n): i +=1\n",
    "    return n "
   ]
  },
  {
   "cell_type": "code",
   "execution_count": 4,
   "metadata": {},
   "outputs": [],
   "source": [
    "assert prime_at(10001) == 104743"
   ]
  },
  {
   "cell_type": "markdown",
   "metadata": {},
   "source": [
    "#### Answer: 104743\n",
    "---"
   ]
  },
  {
   "cell_type": "markdown",
   "metadata": {},
   "source": [
    "## Largest product in a series\n",
    "### Problem #8\n",
    "\n",
    "The four adjacent digits in the 1000-digit number that have the greatest product are 9 × 9 × 8 × 9 = 5832.\n",
    "\n",
    "<p><center>\n",
    "73167176531330624919225119674426574742355349194934<br>\n",
    "96983520312774506326239578318016984801869478851843<br>\n",
    "85861560789112949495459501737958331952853208805511<br>\n",
    "12540698747158523863050715693290963295227443043557<br>\n",
    "66896648950445244523161731856403098711121722383113<br>\n",
    "62229893423380308135336276614282806444486645238749<br>\n",
    "30358907296290491560440772390713810515859307960866<br>\n",
    "70172427121883998797908792274921901699720888093776<br>\n",
    "65727333001053367881220235421809751254540594752243<br>\n",
    "52584907711670556013604839586446706324415722155397<br>\n",
    "53697817977846174064955149290862569321978468622482<br>\n",
    "83972241375657056057490261407972968652414535100474<br>\n",
    "821663704844031<b>9989</b>0008895243450658541227588666881<br>\n",
    "16427171479924442928230863465674813919123162824586<br>\n",
    "17866458359124566529476545682848912883142607690042<br>\n",
    "24219022671055626321111109370544217506941658960408<br>\n",
    "07198403850962455444362981230987879927244284909188<br>\n",
    "84580156166097919133875499200524063689912560717606<br>\n",
    "05886116467109405077541002256983155200055935729725<br>\n",
    "71636269561882670428252483600823257530420752963450\n",
    "</center></p>\n",
    "\n",
    "Find the thirteen adjacent digits in the 1000-digit number that have the greatest product. What is the value of this product?"
   ]
  },
  {
   "cell_type": "markdown",
   "metadata": {},
   "source": [
    "#### Solution\n",
    "\n",
    "Nothing fancy here, just plain brute force."
   ]
  },
  {
   "cell_type": "code",
   "execution_count": 5,
   "metadata": {},
   "outputs": [],
   "source": [
    "DIGITS = \"73167176531330624919225119674426574742355349194934\"\\\n",
    "         \"96983520312774506326239578318016984801869478851843\"\\\n",
    "         \"85861560789112949495459501737958331952853208805511\"\\\n",
    "         \"12540698747158523863050715693290963295227443043557\"\\\n",
    "         \"66896648950445244523161731856403098711121722383113\"\\\n",
    "         \"62229893423380308135336276614282806444486645238749\"\\\n",
    "         \"30358907296290491560440772390713810515859307960866\"\\\n",
    "         \"70172427121883998797908792274921901699720888093776\"\\\n",
    "         \"65727333001053367881220235421809751254540594752243\"\\\n",
    "         \"52584907711670556013604839586446706324415722155397\"\\\n",
    "         \"53697817977846174064955149290862569321978468622482\"\\\n",
    "         \"83972241375657056057490261407972968652414535100474\"\\\n",
    "         \"82166370484403199890008895243450658541227588666881\"\\\n",
    "         \"16427171479924442928230863465674813919123162824586\"\\\n",
    "         \"17866458359124566529476545682848912883142607690042\"\\\n",
    "         \"24219022671055626321111109370544217506941658960408\"\\\n",
    "         \"07198403850962455444362981230987879927244284909188\"\\\n",
    "         \"84580156166097919133875499200524063689912560717606\"\\\n",
    "         \"05886116467109405077541002256983155200055935729725\"\\\n",
    "         \"71636269561882670428252483600823257530420752963450\"\n"
   ]
  },
  {
   "cell_type": "code",
   "execution_count": 6,
   "metadata": {},
   "outputs": [],
   "source": [
    "def dig_product(digits: str) -> int:\n",
    "    \"\"\"product of string of digits\"\"\"\n",
    "    p = 1 \n",
    "    for d in digits: p *= int(d)\n",
    "    return p\n",
    "\n",
    "def max_chunk_product(digits:str, size:int) -> int:\n",
    "    \"\"\"max product of chunk size in digits\"\"\"\n",
    "    return max(dig_product(digits[i: i+size]) \n",
    "               for i in range(len(digits) - size+1))"
   ]
  },
  {
   "cell_type": "code",
   "execution_count": 7,
   "metadata": {},
   "outputs": [],
   "source": [
    "assert max_chunk_product(DIGITS, 13) == 23514624000"
   ]
  },
  {
   "cell_type": "markdown",
   "metadata": {},
   "source": [
    "#### Answer: 23514624000\n",
    "---"
   ]
  },
  {
   "cell_type": "markdown",
   "metadata": {},
   "source": [
    "## Special Pythagorean triplet\n",
    "### Problem #9\n",
    "\n",
    "A Pythagorean triplet is a set of three natural numbers, $a < b < c$, for which,\n",
    "\n",
    "$$ \n",
    "a^2 + b^2 = c^2 \n",
    "$$\n",
    "\n",
    "For example, $3^2 + 4^2 = 9 + 16 = 25 = 52$\n",
    "\n",
    "There exists exactly one Pythagorean triplet for which $a + b + c = 1000$.   \n",
    "\n",
    "Find the product abc."
   ]
  },
  {
   "cell_type": "markdown",
   "metadata": {},
   "source": [
    "#### Solution\n",
    "\n",
    "Since $p = a + b + c$, we iterate over $a$ and $b$, with $c$ fixed to: $p - a - b$\n",
    "\n",
    "From $a^2 + b^2 = (p - a - b)^2$ and $a < b < c$, we conclude, \n",
    "$3 \\leqslant a \\leqslant (p-3)/3$ and $b < (p-a)/2 $"
   ]
  },
  {
   "cell_type": "code",
   "execution_count": 8,
   "metadata": {},
   "outputs": [],
   "source": [
    "def find_triplet(p: int) -> int:\n",
    "    \"\"\"p: perimeter = a + b + c\n",
    "       returns a*b*c\n",
    "    \"\"\"\n",
    "    for a in range(3, (p-3)//3+1):\n",
    "        for b in range(a+1, (p-a)//2):\n",
    "            c = p - a - b\n",
    "            if a*a + b*b == c*c:\n",
    "                return a*b*c"
   ]
  },
  {
   "cell_type": "code",
   "execution_count": 9,
   "metadata": {},
   "outputs": [],
   "source": [
    "assert find_triplet(1000) == 31875000"
   ]
  },
  {
   "cell_type": "code",
   "execution_count": 10,
   "metadata": {},
   "outputs": [],
   "source": [
    "# one-liner\n",
    "assert next(a*b*(1000-a-b) \\\n",
    "            for a in range(3,334) for b in range(a+1,(1000-a)//2) \\\n",
    "            if a*a+b*b==(1000-a-b)**2) == 31875000"
   ]
  },
  {
   "cell_type": "markdown",
   "metadata": {},
   "source": [
    "#### Answer: 31875000\n",
    "---"
   ]
  },
  {
   "cell_type": "markdown",
   "metadata": {},
   "source": [
    "## Summation of primes\n",
    "### Problem #10\n",
    "\n",
    "The sum of the primes below $10$ is $2 + 3 + 5 + 7 = 17$.\n",
    "\n",
    "Find the sum of all the primes below two million."
   ]
  },
  {
   "cell_type": "markdown",
   "metadata": {},
   "source": [
    "#### Solution\n",
    "\n",
    "Just sum all primes below the target number.\n",
    "\n",
    "Primality testing over a wide range might be time-consuming, what we can do instead, is pre-generate an array of primes and use it later.\n",
    "\n",
    "Check: [SieveofEratosthenes](https://mathworld.wolfram.com/SieveofEratosthenes.html)\n",
    "\n",
    "A small optimization was added by avoiding the storage of even numbers."
   ]
  },
  {
   "cell_type": "code",
   "execution_count": 11,
   "metadata": {},
   "outputs": [],
   "source": [
    "def sum_primes_below(n: int) -> int:\n",
    "    \"\"\"sum of primes below n\"\"\"\n",
    "    \n",
    "    # sieve of odd numbers (assume all primes)\n",
    "    sievebound = n//2\n",
    "    sieve = [True]*sievebound\n",
    "    \n",
    "    # if prime, mark False all multiples below sqrt(n)\n",
    "    crosslimit = int(n**0.5)//2\n",
    "    for i in range(1, crosslimit):\n",
    "        if sieve[i]:\n",
    "            for j in range(2*i*(i+1), sievebound, 2*i+1):\n",
    "                sieve[j] = False\n",
    "                \n",
    "    # sum all primes\n",
    "    s = 2\n",
    "    for i in range(1, sievebound):\n",
    "        if sieve[i]: s += 2*i+1\n",
    "            \n",
    "    return s"
   ]
  },
  {
   "cell_type": "code",
   "execution_count": 12,
   "metadata": {
    "scrolled": true
   },
   "outputs": [],
   "source": [
    "assert sum_primes_below(2000000) == 142913828922"
   ]
  },
  {
   "cell_type": "code",
   "execution_count": 13,
   "metadata": {},
   "outputs": [],
   "source": [
    "# another approach, using python sets (less efficient though)\n",
    "def sum_primes_below_v2(n: int) -> int:\n",
    "    \"\"\"sum of primes below n\"\"\"\n",
    "    \n",
    "    # set of non-primes obtained by inserting mutiples of odd numbers below sqrt(n)\n",
    "    non_primes = {j for i in range(3, int(n**0.5)+1, 2) for j in range(i*i, n+1, i)}\n",
    "    \n",
    "    # add all odd numbers not in 'non-primes', plus 2 (the only even prime)\n",
    "    return 2 + sum(k for k in range(3, n+1, 2) if k not in non_primes)"
   ]
  },
  {
   "cell_type": "code",
   "execution_count": 14,
   "metadata": {},
   "outputs": [],
   "source": [
    "assert sum_primes_below_v2(2000000) == 142913828922"
   ]
  },
  {
   "cell_type": "markdown",
   "metadata": {},
   "source": [
    "#### Answer: 142913828922\n",
    "---"
   ]
  },
  {
   "cell_type": "code",
   "execution_count": null,
   "metadata": {},
   "outputs": [],
   "source": []
  }
 ],
 "metadata": {
  "kernelspec": {
   "display_name": "Python 3",
   "language": "python",
   "name": "python3"
  },
  "language_info": {
   "codemirror_mode": {
    "name": "ipython",
    "version": 3
   },
   "file_extension": ".py",
   "mimetype": "text/x-python",
   "name": "python",
   "nbconvert_exporter": "python",
   "pygments_lexer": "ipython3",
   "version": "3.7.6"
  }
 },
 "nbformat": 4,
 "nbformat_minor": 4
}
