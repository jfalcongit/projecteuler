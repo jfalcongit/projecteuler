{
 "cells": [
  {
   "cell_type": "markdown",
   "metadata": {},
   "source": [
    "# Project Euler Problem Set in Python\n",
    "---\n",
    "\n",
    "\n",
    "### Browse problems:\n",
    "\n",
    "\n",
    "- [PS 01 to 05](PS.01-05.ipynb)\n",
    "\n",
    "\n",
    "- [PS 06 to 10](PS.06-10.ipynb)\n",
    "\n",
    "\n",
    "- [PS 11 to 15](PS.11-15.ipynb)\n",
    "\n",
    "\n",
    "- [PS 16 to 20](PS.16-20.ipynb)\n",
    "\n",
    "\n",
    "- [PS 21 to 25](PS.21-25.ipynb)\n",
    "\n",
    "\n",
    "- [PS 26 to 30](PS.26-30.ipynb)\n",
    "\n",
    "\n",
    "- [PS 31 to 35](PS.31-35.ipynb)\n",
    "\n",
    "\n",
    "- [PS 36 to 40](PS.36-40.ipynb)\n",
    "\n",
    "\n",
    "- [PS 41 to 45](PS.41-45.ipynb)\n",
    "\n",
    "\n",
    "- [PS 46 to 50](PS.46-50.ipynb)\n",
    "\n",
    "\n",
    "- [Extra: Pi Award](PX.AsEasyAsPi.ipynb)\n",
    "\n",
    "\n",
    "- [Extra: Trinary Award](PX.TrinaryTriumph.ipynb)\n",
    "\n",
    "\n",
    "\n",
    "\n",
    "---"
   ]
  }
 ],
 "metadata": {
  "kernelspec": {
   "display_name": "Python 3",
   "language": "python",
   "name": "python3"
  },
  "language_info": {
   "codemirror_mode": {
    "name": "ipython",
    "version": 3
   },
   "file_extension": ".py",
   "mimetype": "text/x-python",
   "name": "python",
   "nbconvert_exporter": "python",
   "pygments_lexer": "ipython3",
   "version": "3.7.6"
  }
 },
 "nbformat": 4,
 "nbformat_minor": 4
}
