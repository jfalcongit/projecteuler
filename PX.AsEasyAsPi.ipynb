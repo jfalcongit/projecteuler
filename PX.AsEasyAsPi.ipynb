{
 "cells": [
  {
   "cell_type": "markdown",
   "metadata": {},
   "source": [
    "# Project Euler Problem Set in Python\n",
    "### Problems: 92, 65, 89, 79\n",
    "\n",
    "(Solve problems 3, 14, 15, 92, 65, 35, 89, 79, 32, 38, and 46)"
   ]
  },
  {
   "cell_type": "markdown",
   "metadata": {},
   "source": [
    "## Square digit chains\n",
    "### Problem #92\n",
    "\n",
    "A number chain is created by continuously adding the square of the digits in a number to form a new number until it has been seen before.\n",
    "\n",
    "For example,\n",
    "\n",
    "&emsp;&emsp; 44 → 32 → 13 → 10 → 1 → 1<br>\n",
    "&emsp;&emsp; 85 → 89 → 145 → 42 → 20 → 4 → 16 → 37 → 58 → 89\n",
    "\n",
    "    \n",
    "Therefore any chain that arrives at 1 or 89 will become stuck in an endless loop. What is most amazing is that EVERY starting number will eventually arrive at 1 or 89.\n",
    "\n",
    "How many starting numbers below ten million will arrive at 89?"
   ]
  },
  {
   "cell_type": "raw",
   "metadata": {},
   "source": [
    "There's actually no need to cycle through each number from 1 to 10^7.\n",
    "\n",
    "After a single iteration of the \"sum squares of digits\" the number is guaranteed to <= 9^2*7 = 567.\n",
    "\n",
    "Now for S = set(1 < n <= 567 that ends its cycle with 89) the question becomes: \n",
    "\"How many numbers below 10^7 have the sum of the squares of their digits in S?\"\n",
    "\n",
    "Also, all permutations on a number converges to the same value, so just count unique permutations and add the total permutation count for each one."
   ]
  },
  {
   "cell_type": "code",
   "execution_count": 55,
   "metadata": {},
   "outputs": [],
   "source": [
    "from math import factorial\n",
    "from itertools import combinations_with_replacement\n",
    "\n",
    "_SQ_DIG = [d*d for d in range(10)]\n",
    "_SQ_DIG_SUM = [sum(_SQ_DIG[ord(c) - 48] for c in str(k)) for k in range(1000)]\n",
    "\n",
    "def square_digit_sum(n):\n",
    "    sdsum = 0\n",
    "    while n > 0:\n",
    "        sdsum += _SQ_DIG_SUM[n % 1000]\n",
    "        n //= 1000\n",
    "    return sdsum\n",
    "\n",
    "def converge(n): \n",
    "    while n != 1 and n != 89:\n",
    "        n = square_digit_sum(n) \n",
    "    return n\n",
    "\n",
    "def count_perms(seq): \n",
    "    nperms = factorial(len(seq))\n",
    "    for d in set(seq):\n",
    "        nperms //= factorial(seq.count(d))\n",
    "    return nperms\n",
    "\n",
    "def square_digit_chains(ndigits, target=89):   \n",
    "    \n",
    "    assert 0 < ndigits and (target == 89 or target == 1)\n",
    "    \n",
    "    convergeC1 = lambda n: square_digit_sum(n) in C1\n",
    "    C1 = { n for n in range(1, ndigits*81 + 1) if converge(n) == 1 }\n",
    "    \n",
    "    count = 0    \n",
    "    for cmb in combinations_with_replacement(\"0123456789\", ndigits):\n",
    "        ns = ''.join(cmb)\n",
    "        if ns[-1] == '0': continue\n",
    "        if convergeC1(int(ns)) == 1:\n",
    "            count += count_perms(ns)\n",
    "            \n",
    "    return 10**ndigits-count-1 if target == 89 else count"
   ]
  },
  {
   "cell_type": "code",
   "execution_count": 56,
   "metadata": {},
   "outputs": [],
   "source": [
    "assert square_digit_chains(7) == 8581146"
   ]
  },
  {
   "cell_type": "markdown",
   "metadata": {},
   "source": [
    "#### Answer: 8581146\n",
    "---"
   ]
  },
  {
   "cell_type": "markdown",
   "metadata": {},
   "source": [
    "## Convergents of e\n",
    "### Problem 65\n",
    "\n",
    "The square root of 2 can be written as an infinite continued fraction.\n",
    "\n",
    "$\\sqrt{2} = 1 + \\dfrac{1}{2 + \\dfrac{1}{2 + \\dfrac{1}{2 + \\dfrac{1}{2 + ...}}}}$\n",
    "\n",
    "The infinite continued fraction can be written, $\\sqrt{2} = [1; (2)]$ indicates that 2 repeats ad *infinitum*. In a similar way, $\\sqrt{23} = [4; (1, 3, 1, 8)]$.\n",
    "\n",
    "It turns out that the sequence of partial values of continued fractions for square roots provide the best rational approximations. Let us consider the convergents for $\\sqrt{2}$.\n",
    "\n",
    "$\n",
    "1 + \\dfrac{1}{2} = \\dfrac{3}{2}\\\\\n",
    "1 + \\dfrac{1}{2 + \\dfrac{1}{2}} = \\dfrac{7}{5}\\\\\n",
    "1 + \\dfrac{1}{2 + \\dfrac{1}{2 + \\dfrac{1}{2}}} = \\dfrac{17}{12}\\\\\n",
    "1 + \\dfrac{1}{2 + \\dfrac{1}{2 + \\dfrac{1}{2 + \\dfrac{1}{2}}}} = \\dfrac{41}{29}\n",
    "$\n",
    "\n",
    "Hence the sequence of the first ten convergents for $\\sqrt{2}$ are:\n",
    "\n",
    "$1, \\dfrac{3}{2}, \\dfrac{7}{5}, \\dfrac{17}{12}, \\dfrac{41}{29}, \\dfrac{99}{70}, \\dfrac{239}{169}, \\dfrac{577}{408}, \\dfrac{1393}{985}, \\dfrac{3363}{2378}, ...$\n",
    "\n",
    "What is most surprising is that the important mathematical constant,\n",
    "\n",
    "$e = [2; 1, 2, 1, 1, 4, 1, 1, 6, 1, ... , 1, 2k, 1, ...]$\n",
    "\n",
    "The first ten terms in the sequence of convergents for e are:\n",
    "\n",
    "$2, 3, \\dfrac{8}{3}, \\dfrac{11}{4}, \\dfrac{19}{7}, \\dfrac{87}{32}, \\dfrac{106}{39}, \\dfrac{193}{71}, \\dfrac{1264}{465}, \\dfrac{1457}{536}, ...$\n",
    "\n",
    "The sum of digits in the numerator of the 10<sup>th</sup> convergent is 1 + 4 + 5 + 7 = 17.\n",
    "\n",
    "Find the sum of digits in the numerator of the 100<sup>th</sup> convergent of the continued fraction for $e$."
   ]
  },
  {
   "cell_type": "code",
   "execution_count": 29,
   "metadata": {},
   "outputs": [],
   "source": [
    "from itertools import count, repeat, cycle\n",
    "\n",
    "sqrt02_denoms = lambda: repeat(2)\n",
    "sqrt23_denoms = lambda: cycle((1, 3, 1, 8))\n",
    "\n",
    "def e_denoms():\n",
    "    for i in count(1):\n",
    "        yield from (1, 2*i, 1)"
   ]
  },
  {
   "cell_type": "code",
   "execution_count": 30,
   "metadata": {},
   "outputs": [],
   "source": [
    "from fractions import Fraction as F\n",
    "\n",
    "def _convergence(denoms, count):\n",
    "    d = next(denoms)\n",
    "    if count <= 1: return d\n",
    "    f = _convergence(denoms, count - 1)\n",
    "    return d + F(1, f)\n",
    "\n",
    "def convergence(start, denoms, count=100):\n",
    "    if count <= 1: return start\n",
    "    return start +  F(1, _convergence(denoms, count - 1))"
   ]
  },
  {
   "cell_type": "code",
   "execution_count": 31,
   "metadata": {},
   "outputs": [],
   "source": [
    "from math import sqrt, e, isclose\n",
    "\n",
    "f = convergence(1, sqrt02_denoms())\n",
    "assert isclose(f.numerator/f.denominator, sqrt(2))\n",
    "\n",
    "f = convergence(4, sqrt23_denoms())\n",
    "assert isclose(f.numerator/f.denominator, sqrt(23))\n",
    "\n",
    "f = convergence(2, e_denoms())\n",
    "assert isclose(f.numerator/f.denominator, e)"
   ]
  },
  {
   "cell_type": "code",
   "execution_count": 32,
   "metadata": {},
   "outputs": [],
   "source": [
    "digit_sum = lambda n: sum(map(int, str(n)))\n",
    "f = convergence(2, e_denoms())\n",
    "assert digit_sum(f.numerator) == 272"
   ]
  },
  {
   "cell_type": "markdown",
   "metadata": {},
   "source": [
    "#### Answer: 272\n",
    "---"
   ]
  },
  {
   "cell_type": "markdown",
   "metadata": {},
   "source": [
    "## Roman numerals\n",
    "### Problem 89\n",
    "\n",
    "For a number written in Roman numerals to be considered valid there are basic rules which must be followed. Even though the rules allow some numbers to be expressed in more than one way there is always a \"best\" way of writing a particular number.\n",
    "\n",
    "For example, it would appear that there are at least six ways of writing the number sixteen:\n",
    "\n",
    "<pre>\n",
    "   IIIIIIIIIIIIIIII  \n",
    "   VIIIIIIIIIII  \n",
    "   VVIIIIII  \n",
    "   XIIIIII  \n",
    "   VVVI  \n",
    "   XVI  \n",
    "</pre>\n",
    "\n",
    "However, according to the rules only XIIIIII and XVI are valid, and the last example is considered to be the most efficient, as it uses the least number of numerals.\n",
    "\n",
    "The 11K text file, [roman.txt](p089_roman.txt) (right click and 'Save Link/Target As...'), contains one thousand numbers written in valid, but not necessarily minimal, Roman numerals; see About... Roman Numerals for the definitive rules for this problem.\n",
    "\n",
    "Find the number of characters saved by writing each of these in their minimal form.\n",
    "\n",
    "Note: You can assume that all the Roman numerals in the file contain no more than four consecutive identical units."
   ]
  },
  {
   "cell_type": "code",
   "execution_count": 237,
   "metadata": {},
   "outputs": [],
   "source": [
    "# (empty), I, II, III, IV, V, VI, VII, VIII, IX\n",
    "DIGIT_LENGTHS = [0, 1, 2, 3, 2, 1, 2, 3, 4, 2]\n",
    "\n",
    "def roman_numeral_len(n):\n",
    "    assert 1 < n < 5000\n",
    "    result = 0\n",
    "    if n >= 4000: # MMMM\n",
    "        result += 2  \n",
    "    while n > 0:\n",
    "        result += DIGIT_LENGTHS[n % 10]\n",
    "        n //= 10\n",
    "    return result\n",
    "\n",
    "ROMAN_NUMERALS_PREFIXES = [\n",
    "    (\"M\" , 1000),\n",
    "    (\"CM\",  900),\n",
    "    (\"D\" ,  500),\n",
    "    (\"CD\",  400),\n",
    "    (\"C\" ,  100),\n",
    "    (\"XC\",   90),\n",
    "    (\"L\" ,   50),\n",
    "    (\"XL\",   40),\n",
    "    (\"X\" ,   10),\n",
    "    (\"IX\",    9),\n",
    "    (\"V\" ,    5),\n",
    "    (\"IV\",    4),\n",
    "    (\"I\" ,    1)]\n",
    "\n",
    "def parse_roman_numeral(s):\n",
    "    result = 0\n",
    "    while len(s) > 0:\n",
    "        for (prefix, val) in ROMAN_NUMERALS_PREFIXES:\n",
    "            if s.startswith(prefix):\n",
    "                result += val\n",
    "                s = s[len(prefix): ]\n",
    "                break\n",
    "        else:\n",
    "            raise Exception(\"Cannot parse Roman numeral\")\n",
    "    return result"
   ]
  },
  {
   "cell_type": "code",
   "execution_count": 238,
   "metadata": {},
   "outputs": [],
   "source": [
    "with open('p089_roman.txt') as f: data = f.read().strip().splitlines()\n",
    "letter_count = sum(len(s) - roman_numeral_len(parse_roman_numeral(s)) for s in data)\n",
    "\n",
    "assert letter_count == 743"
   ]
  },
  {
   "cell_type": "markdown",
   "metadata": {},
   "source": [
    "#### Answer: 743\n",
    "---"
   ]
  },
  {
   "cell_type": "markdown",
   "metadata": {},
   "source": [
    "## Passcode derivation\n",
    "### Problem 79\n",
    "\n",
    "A common security method used for online banking is to ask the user for three random characters from a passcode. For example, if the passcode was 531278, they may ask for the 2nd, 3rd, and 5th characters; the expected reply would be: 317.\n",
    "\n",
    "The text file, [keylog.txt](p079_keylog.txt), contains fifty successful login attempts.\n",
    "\n",
    "Given that the three characters are always asked for in order, analyse the file so as to determine the shortest possible secret passcode of unknown length."
   ]
  },
  {
   "cell_type": "code",
   "execution_count": 239,
   "metadata": {},
   "outputs": [],
   "source": [
    "def swap(lst, i, j):\n",
    "    lst[i], lst[j] = lst[j], lst[i]"
   ]
  },
  {
   "cell_type": "code",
   "execution_count": 240,
   "metadata": {},
   "outputs": [],
   "source": [
    "with open('p079_keylog.txt') as f: \n",
    "    data = f.read().splitlines()\n",
    "\n",
    "for entry in data:\n",
    "    # a < b < c \n",
    "    a, b, c = entry\n",
    "    assert b+a not in data\n",
    "    assert c+b not in data\n",
    "    assert c+a not in data\n",
    "\n",
    "digits = {*()}.union(*data)\n",
    "\n",
    "guess = [*digits]\n",
    "for rule in data:\n",
    "    a, b, c = rule\n",
    "    ia = guess.index(a)\n",
    "    ib = guess.index(b)\n",
    "    ic = guess.index(c)\n",
    "    if ia > ib: swap(guess, ia, ib)\n",
    "    if ib > ic: swap(guess, ib, ic)\n",
    "    if ia > ic: swap(guess, ia, ic)\n",
    "\n",
    "assert ''.join(guess) == '73162890'"
   ]
  },
  {
   "cell_type": "markdown",
   "metadata": {},
   "source": [
    "#### Answer: 73162890\n",
    "---"
   ]
  },
  {
   "cell_type": "code",
   "execution_count": null,
   "metadata": {},
   "outputs": [],
   "source": []
  }
 ],
 "metadata": {
  "kernelspec": {
   "display_name": "Python 3",
   "language": "python",
   "name": "python3"
  },
  "language_info": {
   "codemirror_mode": {
    "name": "ipython",
    "version": 3
   },
   "file_extension": ".py",
   "mimetype": "text/x-python",
   "name": "python",
   "nbconvert_exporter": "python",
   "pygments_lexer": "ipython3",
   "version": "3.7.6"
  }
 },
 "nbformat": 4,
 "nbformat_minor": 4
}
