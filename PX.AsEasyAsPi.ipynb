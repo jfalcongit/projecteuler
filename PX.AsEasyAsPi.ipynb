{
 "cells": [
  {
   "cell_type": "markdown",
   "metadata": {},
   "source": [
    "# Project Euler Problem Set in Python\n",
    "### Problems: 92, 65, 89, 79\n",
    "\n",
    "(Solve problems 3, 14, 15, 92, 65, 35, 89, 79, 32, 38, and 46)"
   ]
  },
  {
   "cell_type": "markdown",
   "metadata": {},
   "source": [
    "## Square digit chains\n",
    "### Problem #92\n",
    "\n",
    "A number chain is created by continuously adding the square of the digits in a number to form a new number until it has been seen before.\n",
    "\n",
    "For example,\n",
    "\n",
    "&emsp;&emsp; 44 → 32 → 13 → 10 → 1 → 1<br>\n",
    "&emsp;&emsp; 85 → 89 → 145 → 42 → 20 → 4 → 16 → 37 → 58 → 89\n",
    "\n",
    "    \n",
    "Therefore any chain that arrives at 1 or 89 will become stuck in an endless loop. What is most amazing is that EVERY starting number will eventually arrive at 1 or 89.\n",
    "\n",
    "How many starting numbers below ten million will arrive at 89?"
   ]
  },
  {
   "cell_type": "code",
   "execution_count": null,
   "metadata": {},
   "outputs": [],
   "source": [
    "def memonize(f):\n",
    "    h = {}\n",
    "    def g(x):\n",
    "        if x in h:\n",
    "            return h[x]\n",
    "        y = f(x)\n",
    "        h[x] = y\n",
    "        return y\n",
    "    return g"
   ]
  },
  {
   "cell_type": "code",
   "execution_count": null,
   "metadata": {},
   "outputs": [],
   "source": [
    "SQUARE_DIG_SUM = [sum(int(c)**2 for c in str(i)) for i in range(1000)]\n",
    "\n",
    "def square_digit_sum(n):\n",
    "    result = 0\n",
    "    while n > 0:\n",
    "        result += SQUARE_DIG_SUM[n % 1000]\n",
    "        n //= 1000\n",
    "    return result"
   ]
  },
  {
   "cell_type": "code",
   "execution_count": null,
   "metadata": {},
   "outputs": [],
   "source": [
    "@memonize\n",
    "def arrives_89(n):\n",
    "    if n == 1: return False\n",
    "    if n == 89: return True\n",
    "    return arrives_89(square_digit_sum(n))"
   ]
  },
  {
   "cell_type": "code",
   "execution_count": null,
   "metadata": {},
   "outputs": [],
   "source": [
    "def count_chains(limit):\n",
    "    return sum(1 for _ in filter(arrives_89, range(1, limit)))"
   ]
  },
  {
   "cell_type": "code",
   "execution_count": null,
   "metadata": {},
   "outputs": [],
   "source": [
    "assert count_chains(10_000_000) == 8581146"
   ]
  },
  {
   "cell_type": "markdown",
   "metadata": {},
   "source": [
    "#### Answer: 8581146\n",
    "---"
   ]
  },
  {
   "cell_type": "markdown",
   "metadata": {},
   "source": [
    "## Convergents of e\n",
    "### Problem 65\n",
    "\n",
    "The square root of 2 can be written as an infinite continued fraction.\n",
    "\n",
    "$\\sqrt{2} = 1 + \\dfrac{1}{2 + \\dfrac{1}{2 + \\dfrac{1}{2 + \\dfrac{1}{2 + ...}}}}$\n",
    "\n",
    "The infinite continued fraction can be written, $\\sqrt{2} = [1; (2)]$ indicates that 2 repeats ad *infinitum*. In a similar way, $\\sqrt{23} = [4; (1, 3, 1, 8)]$.\n",
    "\n",
    "It turns out that the sequence of partial values of continued fractions for square roots provide the best rational approximations. Let us consider the convergents for $\\sqrt{2}$.\n",
    "\n",
    "$\n",
    "1 + \\dfrac{1}{2} = \\dfrac{3}{2}\\\\\n",
    "1 + \\dfrac{1}{2 + \\dfrac{1}{2}} = \\dfrac{7}{5}\\\\\n",
    "1 + \\dfrac{1}{2 + \\dfrac{1}{2 + \\dfrac{1}{2}}} = \\dfrac{17}{12}\\\\\n",
    "1 + \\dfrac{1}{2 + \\dfrac{1}{2 + \\dfrac{1}{2 + \\dfrac{1}{2}}}} = \\dfrac{41}{29}\n",
    "$\n",
    "\n",
    "Hence the sequence of the first ten convergents for $\\sqrt{2}$ are:\n",
    "\n",
    "$1, \\dfrac{3}{2}, \\dfrac{7}{5}, \\dfrac{17}{12}, \\dfrac{41}{29}, \\dfrac{99}{70}, \\dfrac{239}{169}, \\dfrac{577}{408}, \\dfrac{1393}{985}, \\dfrac{3363}{2378}, ...$\n",
    "\n",
    "What is most surprising is that the important mathematical constant,\n",
    "\n",
    "$e = [2; 1, 2, 1, 1, 4, 1, 1, 6, 1, ... , 1, 2k, 1, ...]$\n",
    "\n",
    "The first ten terms in the sequence of convergents for e are:\n",
    "\n",
    "$2, 3, \\dfrac{8}{3}, \\dfrac{11}{4}, \\dfrac{19}{7}, \\dfrac{87}{32}, \\dfrac{106}{39}, \\dfrac{193}{71}, \\dfrac{1264}{465}, \\dfrac{1457}{536}, ...$\n",
    "\n",
    "The sum of digits in the numerator of the 10<sup>th</sup> convergent is 1 + 4 + 5 + 7 = 17.\n",
    "\n",
    "Find the sum of digits in the numerator of the 100<sup>th</sup> convergent of the continued fraction for $e$."
   ]
  },
  {
   "cell_type": "code",
   "execution_count": null,
   "metadata": {},
   "outputs": [],
   "source": [
    "from math import inf\n",
    "\n",
    "def sqrt2_generator(stop = inf):\n",
    "    i = 0\n",
    "    while i < stop: \n",
    "        yield 2\n",
    "        i =+ 1\n",
    "\n",
    "def sqrt23_generator(stop = inf):\n",
    "    i = 0\n",
    "    while i < stop: \n",
    "        for k in (1, 3, 1, 8): \n",
    "            if i < stop:\n",
    "                yield k\n",
    "                i += 1\n",
    "            else: break\n",
    "        \n",
    "def e_generator(stop = inf):\n",
    "    i, j = 0, 1\n",
    "    while i < stop:\n",
    "        for k in (1, 2*j, 1):\n",
    "            if i < stop:\n",
    "                yield k\n",
    "                i += 1\n",
    "            else: break\n",
    "        j += 1"
   ]
  },
  {
   "cell_type": "code",
   "execution_count": null,
   "metadata": {},
   "outputs": [],
   "source": [
    "from fractions import Fraction as F\n",
    "\n",
    "def _convergence(generator, count):\n",
    "    d = next(generator)\n",
    "    if count <= 1: return d\n",
    "    f = _convergence(generator, count - 1)\n",
    "    return d + F(1, f)\n",
    "\n",
    "def convergence(start, generator, count):\n",
    "    if count <= 1: return start\n",
    "    return start +  F(1, _convergence(generator, count - 1))"
   ]
  },
  {
   "cell_type": "code",
   "execution_count": null,
   "metadata": {},
   "outputs": [],
   "source": [
    "from math import sqrt, e\n",
    "\n",
    "N, ERR_OK = 15, 1/10**6\n",
    "\n",
    "f = convergence(1, sqrt2_generator(), N)\n",
    "assert f.numerator/f.denominator - sqrt(2) < ERR_OK\n",
    "\n",
    "f = convergence(4, sqrt23_generator(), N)\n",
    "assert f.numerator/f.denominator - sqrt(23) < ERR_OK\n",
    "\n",
    "f = convergence(2, e_generator(), N)\n",
    "assert f.numerator/f.denominator - e < ERR_OK"
   ]
  },
  {
   "cell_type": "code",
   "execution_count": null,
   "metadata": {},
   "outputs": [],
   "source": [
    "f = convergence(2, e_generator(), 100)\n",
    "assert sum(int(d) for d in str(f.numerator)) == 272"
   ]
  },
  {
   "cell_type": "markdown",
   "metadata": {},
   "source": [
    "#### Answer: 272\n",
    "---"
   ]
  },
  {
   "cell_type": "markdown",
   "metadata": {},
   "source": [
    "## Roman numerals\n",
    "### Problem 89\n",
    "\n",
    "For a number written in Roman numerals to be considered valid there are basic rules which must be followed. Even though the rules allow some numbers to be expressed in more than one way there is always a \"best\" way of writing a particular number.\n",
    "\n",
    "For example, it would appear that there are at least six ways of writing the number sixteen:\n",
    "\n",
    "<pre>\n",
    "   IIIIIIIIIIIIIIII  \n",
    "   VIIIIIIIIIII  \n",
    "   VVIIIIII  \n",
    "   XIIIIII  \n",
    "   VVVI  \n",
    "   XVI  \n",
    "</pre>\n",
    "\n",
    "However, according to the rules only XIIIIII and XVI are valid, and the last example is considered to be the most efficient, as it uses the least number of numerals.\n",
    "\n",
    "The 11K text file, [roman.txt](p089_roman.txt) (right click and 'Save Link/Target As...'), contains one thousand numbers written in valid, but not necessarily minimal, Roman numerals; see About... Roman Numerals for the definitive rules for this problem.\n",
    "\n",
    "Find the number of characters saved by writing each of these in their minimal form.\n",
    "\n",
    "Note: You can assume that all the Roman numerals in the file contain no more than four consecutive identical units."
   ]
  },
  {
   "cell_type": "code",
   "execution_count": null,
   "metadata": {},
   "outputs": [],
   "source": [
    "# (empty), I, II, III, IV, V, VI, VII, VIII, IX\n",
    "DIGIT_LENGTHS = [0, 1, 2, 3, 2, 1, 2, 3, 4, 2]\n",
    "\n",
    "def roman_numeral_len(n):\n",
    "    assert 1 < n < 5000\n",
    "    result = 0\n",
    "    if n >= 4000: # MMMM\n",
    "        result += 2  \n",
    "    while n > 0:\n",
    "        result += DIGIT_LENGTHS[n % 10]\n",
    "        n //= 10\n",
    "    return result\n",
    "\n",
    "ROMAN_NUMERALS_PREFIXES = [\n",
    "    (\"M\" , 1000),\n",
    "    (\"CM\",  900),\n",
    "    (\"D\" ,  500),\n",
    "    (\"CD\",  400),\n",
    "    (\"C\" ,  100),\n",
    "    (\"XC\",   90),\n",
    "    (\"L\" ,   50),\n",
    "    (\"XL\",   40),\n",
    "    (\"X\" ,   10),\n",
    "    (\"IX\",    9),\n",
    "    (\"V\" ,    5),\n",
    "    (\"IV\",    4),\n",
    "    (\"I\" ,    1)]\n",
    "\n",
    "def parse_roman_numeral(s):\n",
    "    result = 0\n",
    "    while len(s) > 0:\n",
    "        for (prefix, val) in ROMAN_NUMERALS_PREFIXES:\n",
    "            if s.startswith(prefix):\n",
    "                result += val\n",
    "                s = s[len(prefix): ]\n",
    "                break\n",
    "        else:\n",
    "            raise Exception(\"Cannot parse Roman numeral\")\n",
    "    return result"
   ]
  },
  {
   "cell_type": "code",
   "execution_count": null,
   "metadata": {},
   "outputs": [],
   "source": [
    "with open('p089_roman.txt') as f: data = f.read().strip().splitlines()\n",
    "letter_count = sum(len(s) - roman_numeral_len(parse_roman_numeral(s)) for s in data)\n",
    "\n",
    "assert letter_count == 743"
   ]
  },
  {
   "cell_type": "markdown",
   "metadata": {},
   "source": [
    "#### Answer: 743\n",
    "---"
   ]
  },
  {
   "cell_type": "markdown",
   "metadata": {},
   "source": [
    "## Passcode derivation\n",
    "### Problem 79\n",
    "\n",
    "A common security method used for online banking is to ask the user for three random characters from a passcode. For example, if the passcode was 531278, they may ask for the 2nd, 3rd, and 5th characters; the expected reply would be: 317.\n",
    "\n",
    "The text file, [keylog.txt](p079_keylog.txt), contains fifty successful login attempts.\n",
    "\n",
    "Given that the three characters are always asked for in order, analyse the file so as to determine the shortest possible secret passcode of unknown length."
   ]
  },
  {
   "cell_type": "code",
   "execution_count": null,
   "metadata": {},
   "outputs": [],
   "source": [
    "def swap(lst, i, j):\n",
    "    lst[i], lst[j] = lst[j], lst[i]"
   ]
  },
  {
   "cell_type": "code",
   "execution_count": null,
   "metadata": {},
   "outputs": [],
   "source": [
    "with open('p079_keylog.txt') as f: \n",
    "    data = f.read().splitlines()\n",
    "\n",
    "for entry in data:\n",
    "    # a < b < c \n",
    "    a, b, c = entry\n",
    "    assert b+a not in data\n",
    "    assert c+b not in data\n",
    "    assert c+a not in data\n",
    "\n",
    "digits = {*()}.union(*data)\n",
    "\n",
    "guess = [*digits]\n",
    "for rule in data:\n",
    "    a, b, c = rule\n",
    "    ia = guess.index(a)\n",
    "    ib = guess.index(b)\n",
    "    ic = guess.index(c)\n",
    "    if ia > ib: swap(guess, ia, ib)\n",
    "    if ib > ic: swap(guess, ib, ic)\n",
    "    if ia > ic: swap(guess, ia, ic)\n",
    "\n",
    "assert ''.join(guess) == '73162890'"
   ]
  },
  {
   "cell_type": "markdown",
   "metadata": {},
   "source": [
    "#### Answer: 73162890\n",
    "---"
   ]
  }
 ],
 "metadata": {
  "kernelspec": {
   "display_name": "Python 3",
   "language": "python",
   "name": "python3"
  },
  "language_info": {
   "codemirror_mode": {
    "name": "ipython",
    "version": 3
   },
   "file_extension": ".py",
   "mimetype": "text/x-python",
   "name": "python",
   "nbconvert_exporter": "python",
   "pygments_lexer": "ipython3",
   "version": "3.7.6"
  }
 },
 "nbformat": 4,
 "nbformat_minor": 4
}
