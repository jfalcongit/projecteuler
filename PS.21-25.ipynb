{
 "cells": [
  {
   "cell_type": "markdown",
   "metadata": {},
   "source": [
    "# Project Euler Problem Set in Python\n",
    "### Problems 21 - 25"
   ]
  },
  {
   "cell_type": "markdown",
   "metadata": {},
   "source": [
    "## Amicable numbers\n",
    "### Problem #21\n",
    "\n",
    "Let d(n) be defined as the sum of proper divisors of n (numbers less than n which divide evenly into n).\n",
    "If d(a) = b and d(b) = a, where a ≠ b, then a and b are an amicable pair and each of a and b are called amicable numbers.\n",
    "\n",
    "For example, the proper divisors of 220 are 1, 2, 4, 5, 10, 11, 20, 22, 44, 55 and 110; therefore d(220) = 284. The proper divisors of 284 are 1, 2, 4, 71 and 142; so d(284) = 220.\n",
    "\n",
    "Evaluate the sum of all the amicable numbers under 10000."
   ]
  },
  {
   "cell_type": "code",
   "execution_count": 1,
   "metadata": {},
   "outputs": [],
   "source": [
    "def sum_divisors(n: int) -> int:\n",
    "    \"\"\"sum of all divisors of n\"\"\"\n",
    "    s = 1\n",
    "    p = 2\n",
    "    while p*p <= n and n > 1:\n",
    "        if n%p == 0: \n",
    "            j = p*p\n",
    "            n //= p\n",
    "            while n%p == 0:\n",
    "                j *= p\n",
    "                n//= p\n",
    "            s *= j-1\n",
    "            s //=p-1\n",
    "        if p == 2: p = 3 \n",
    "        else: p += 2\n",
    "    if n > 1: s *= n+1\n",
    "    return s\n",
    "\n",
    "def sum_proper_divisors(n: int) -> int:\n",
    "    \"\"\"sum of proper divisors of n\"\"\"\n",
    "    return sum_divisors(n) - n\n",
    "\n",
    "def amicable_sum(limit: int) -> int:\n",
    "    \"\"\"sum of amicable pairs below n\"\"\"\n",
    "    s = 0\n",
    "    for a in range(2, limit):\n",
    "        b = sum_proper_divisors(a)\n",
    "        if b > a and sum_proper_divisors(b) == a:\n",
    "            s += a + b\n",
    "    return s"
   ]
  },
  {
   "cell_type": "code",
   "execution_count": 2,
   "metadata": {},
   "outputs": [],
   "source": [
    "assert amicable_sum(10000) == 31626"
   ]
  },
  {
   "cell_type": "code",
   "execution_count": 3,
   "metadata": {},
   "outputs": [],
   "source": [
    "def amicable_sum_v2(limit: int) -> int:\n",
    "    \n",
    "    # pre-compute sum of proper divisors\n",
    "    divisorsum = [0]*limit\n",
    "    for i in range(1, limit):\n",
    "        for j in range(2*i, limit, i):\n",
    "            divisorsum[j] += i\n",
    "\n",
    "    # find all amicable pairs within range\n",
    "    asum = 0\n",
    "    for i in range(1, limit):\n",
    "        j = divisorsum[i]\n",
    "        if j != i and j < limit and divisorsum[j] == i:\n",
    "            asum += i\n",
    "    \n",
    "    return asum"
   ]
  },
  {
   "cell_type": "code",
   "execution_count": 4,
   "metadata": {},
   "outputs": [],
   "source": [
    "assert amicable_sum_v2(10000) == 31626"
   ]
  },
  {
   "cell_type": "markdown",
   "metadata": {},
   "source": [
    "#### Answer: 31626\n",
    "---"
   ]
  },
  {
   "cell_type": "markdown",
   "metadata": {},
   "source": [
    "## Names scores\n",
    "### Problem #22\n",
    "\n",
    "Using [names.txt](p022_names.txt) (right click and 'Save Link/Target As...'), a 46K text file containing over five-thousand first names, begin by sorting it into alphabetical order. Then working out the alphabetical value for each name, multiply this value by its alphabetical position in the list to obtain a name score.\n",
    "\n",
    "For example, when the list is sorted into alphabetical order, COLIN, which is worth 3 + 15 + 12 + 9 + 14 = 53, is the 938th name in the list. So, COLIN would obtain a score of 938 × 53 = 49714.\n",
    "\n",
    "What is the total of all the name scores in the file?"
   ]
  },
  {
   "cell_type": "code",
   "execution_count": 5,
   "metadata": {},
   "outputs": [],
   "source": [
    "with open('p022_names.txt') as f: \n",
    "    names = f.read().split(',')\n",
    "    \n",
    "assert sum(i * (ord(c) - 64) # 64 = ord('A') + 1\n",
    "           for i, name in enumerate(sorted(names), 1)\n",
    "           for c in name[1:-1] # trim \"...\"\n",
    "          ) == 871198282"
   ]
  },
  {
   "cell_type": "markdown",
   "metadata": {},
   "source": [
    "#### Answer: 871198282\n",
    "---"
   ]
  },
  {
   "cell_type": "markdown",
   "metadata": {},
   "source": [
    "## Non-abundant sums\n",
    "### Problem #23\n",
    "\n",
    "A perfect number is a number for which the sum of its proper divisors is exactly equal to the number. For example, the sum of the proper divisors of 28 would be 1 + 2 + 4 + 7 + 14 = 28, which means that 28 is a perfect number.\n",
    "\n",
    "A number n is called deficient if the sum of its proper divisors is less than n and it is called abundant if this sum exceeds n.\n",
    "\n",
    "As 12 is the smallest abundant number, 1 + 2 + 3 + 4 + 6 = 16, the smallest number that can be written as the sum of two abundant numbers is 24. By mathematical analysis, it can be shown that all integers greater than 28123 can be written as the sum of two abundant numbers. However, this upper limit cannot be reduced any further by analysis even though it is known that the greatest number that cannot be expressed as the sum of two abundant numbers is less than this limit.\n",
    "\n",
    "Find the sum of all the positive integers which cannot be written as the sum of two abundant numbers."
   ]
  },
  {
   "cell_type": "code",
   "execution_count": 6,
   "metadata": {
    "scrolled": false
   },
   "outputs": [],
   "source": [
    "def is_abundant(s: int, anums: set) -> bool:\n",
    "    \"\"\"True if 's' is an abundant sum given a set 'anums'\"\"\"\n",
    "    return any(s - n in anums for n in anums)\n",
    "    \n",
    "def non_abundant_sums(limit: int) -> int:\n",
    "    \"\"\"sum of all int < limit that cannot be written as an abundant sum\"\"\"\n",
    "    \n",
    "    # set of abundant numbers (proper_divisors defined in problem #21)\n",
    "    anums = {n for n in range(12, limit) if sum_proper_divisors(n) > n}\n",
    "    \n",
    "    return sum(s for s in range(1, limit) if not is_abundant(s, anums))"
   ]
  },
  {
   "cell_type": "code",
   "execution_count": 7,
   "metadata": {},
   "outputs": [],
   "source": [
    "# see: http://mathworld.wolfram.com/AbundantNumber.html:\n",
    "# every number greater than 20161 can be expressed as a sum of two abundant numbers\n",
    "# so limit = 20161+1 instead of 28124\n",
    "\n",
    "assert non_abundant_sums(20162) == 4179871"
   ]
  },
  {
   "cell_type": "markdown",
   "metadata": {},
   "source": [
    "#### Answer: 4179871\n",
    "---"
   ]
  },
  {
   "cell_type": "markdown",
   "metadata": {},
   "source": [
    "## Lexicographic permutations\n",
    "### Problem 24\n",
    "\n",
    "A permutation is an ordered arrangement of objects. For example, 3124 is one possible permutation of the digits 1, 2, 3 and 4. If all of the permutations are listed numerically or alphabetically, we call it lexicographic order. The lexicographic permutations of 0, 1 and 2 are:\n",
    "\n",
    "$$\n",
    "012 \\quad 021 \\quad 102 \\quad 120 \\quad 201 \\quad 210\n",
    "$$\n",
    "\n",
    "What is the millionth lexicographic permutation of the digits 0, 1, 2, 3, 4, 5, 6, 7, 8 and 9?"
   ]
  },
  {
   "cell_type": "code",
   "execution_count": 8,
   "metadata": {
    "scrolled": true
   },
   "outputs": [],
   "source": [
    "from itertools import permutations, islice\n",
    "\n",
    "def lex_permutation_at(index: int, elements: list) -> str:\n",
    "    \"\"\"the lexicographic permutation of 'elements' at 'index'\"\"\"\n",
    "    isper = islice(permutations(elements), index-1, index)\n",
    "    return ''.join(map(str, next(isper)))"
   ]
  },
  {
   "cell_type": "code",
   "execution_count": 9,
   "metadata": {},
   "outputs": [],
   "source": [
    "assert lex_permutation_at(1000000, range(10)) == '2783915460'"
   ]
  },
  {
   "cell_type": "markdown",
   "metadata": {},
   "source": [
    "#### Answer: 2783915460\n",
    "---"
   ]
  },
  {
   "cell_type": "markdown",
   "metadata": {},
   "source": [
    "## 1000-digit Fibonacci number\n",
    "### Problem #25\n",
    "\n",
    "The Fibonacci sequence is defined by the recurrence relation:\n",
    "\n",
    "$$\n",
    "Fn = Fn−1 + Fn−2\\text{, where }F1 = 1\\text{ and }F2 = 1.\n",
    "$$\n",
    "\n",
    "Hence the first 12 terms will be:\n",
    "\n",
    "&emsp; F1 = 1  \n",
    "&emsp; F2 = 1  \n",
    "&emsp; F3 = 2  \n",
    "&emsp; F4 = 3  \n",
    "&emsp; F5 = 5  \n",
    "&emsp; F6 = 8  \n",
    "&emsp; F7 = 13  \n",
    "&emsp; F8 = 21  \n",
    "&emsp; F9 = 34  \n",
    "&emsp; F10 = 55  \n",
    "&emsp; F11 = 89  \n",
    "&emsp; F12 = 144  \n",
    "\n",
    "The 12th term, F12, is the first term to contain three digits.\n",
    "\n",
    "What is the index of the first term in the Fibonacci sequence to contain 1000 digits?"
   ]
  },
  {
   "cell_type": "code",
   "execution_count": 110,
   "metadata": {},
   "outputs": [],
   "source": [
    "def ndigit_fibo_index(n: int) ->int:\n",
    "    \"\"\"returns the index of the first fibo with n digits\"\"\"\n",
    "    if n == 1: return 1\n",
    "    stop = 10**(n-1)\n",
    "    a,b,c = 0,1,1\n",
    "    while b <= stop:\n",
    "        a,b,c = b,a+b,c+1\n",
    "    return c "
   ]
  },
  {
   "cell_type": "code",
   "execution_count": 111,
   "metadata": {},
   "outputs": [],
   "source": [
    "assert ndigit_fibo_index(1000) == 4782"
   ]
  },
  {
   "cell_type": "markdown",
   "metadata": {},
   "source": [
    "#### Answer: 4782\n",
    "---"
   ]
  },
  {
   "cell_type": "markdown",
   "metadata": {},
   "source": [
    "### Just for fun\n"
   ]
  },
  {
   "cell_type": "code",
   "execution_count": 6,
   "metadata": {},
   "outputs": [],
   "source": [
    "from functools import lru_cache\n",
    "\n",
    "@lru_cache()\n",
    "def fast_fibo(n):\n",
    "    if n < 0: raise ValueError('n < 0')\n",
    "    if n == 0: return 0\n",
    "    if n == 1: return 1\n",
    "    m = n>>1\n",
    "    fm = fast_fibo(m)\n",
    "    if n%2:\n",
    "        fx = fast_fibo(m+1)\n",
    "        fb = fx*fx + fm*fm\n",
    "    else:\n",
    "        fx = fast_fibo(m-1)<<1\n",
    "        fb = fx*fm + fm*fm\n",
    "    return fb"
   ]
  },
  {
   "cell_type": "code",
   "execution_count": 7,
   "metadata": {},
   "outputs": [],
   "source": [
    "assert len(str(fast_fibo(4782))) == 1_000"
   ]
  },
  {
   "cell_type": "code",
   "execution_count": 8,
   "metadata": {},
   "outputs": [],
   "source": [
    "assert len(str(fast_fibo(47847))) == 10_000"
   ]
  },
  {
   "cell_type": "code",
   "execution_count": null,
   "metadata": {},
   "outputs": [],
   "source": []
  }
 ],
 "metadata": {
  "kernelspec": {
   "display_name": "Python 3",
   "language": "python",
   "name": "python3"
  },
  "language_info": {
   "codemirror_mode": {
    "name": "ipython",
    "version": 3
   },
   "file_extension": ".py",
   "mimetype": "text/x-python",
   "name": "python",
   "nbconvert_exporter": "python",
   "pygments_lexer": "ipython3",
   "version": "3.7.6"
  }
 },
 "nbformat": 4,
 "nbformat_minor": 4
}
