{
 "cells": [
  {
   "cell_type": "markdown",
   "metadata": {},
   "source": [
    "# Project Euler Problem Set in Python\n",
    "### Problems 36 - 40"
   ]
  },
  {
   "cell_type": "markdown",
   "metadata": {},
   "source": [
    "## Double-base palindromes\n",
    "### Problem #36\n",
    "\n",
    "The decimal number, 585 = 1001001001<sub>2</sub> (binary), is palindromic in both bases.\n",
    "\n",
    "Find the sum of all numbers, less than one million, which are palindromic in base 10 and base 2.\n",
    "\n",
    "(Please note that the palindromic number, in either base, may not include leading zeros.)"
   ]
  },
  {
   "cell_type": "code",
   "execution_count": 1,
   "metadata": {},
   "outputs": [],
   "source": [
    "def is_double_base_pal(n: int) -> bool:\n",
    "    \"\"\"True if n is palindrome in base 2 and 10\"\"\"\n",
    "    s = str(n)\n",
    "    if s != s[::-1]: \n",
    "        return False\n",
    "    s = bin(n)[2:]\n",
    "    return s == s[::-1]\n",
    "    \n",
    "def sum_double_base_pals(limit: int) -> int:\n",
    "    \"\"\"sum of palindromes base 2&10 below limit\"\"\"\n",
    "    return sum(n for n in range(limit) if is_double_base_pal(n))"
   ]
  },
  {
   "cell_type": "code",
   "execution_count": 2,
   "metadata": {},
   "outputs": [],
   "source": [
    "assert sum_double_base_pals(1000000) == 872187"
   ]
  },
  {
   "cell_type": "code",
   "execution_count": 3,
   "metadata": {},
   "outputs": [],
   "source": [
    "import itertools\n",
    "\n",
    "def make_bit_pal(n:int, odd:bool) -> int:\n",
    "    \"\"\"generates a binary palindrome duplicating n; if odd the 'middle' bit is skiped\"\"\"\n",
    "    p = n\n",
    "    if odd: n >>= 1\n",
    "    while n > 0:\n",
    "        p = p << 1 | n & 1\n",
    "        n >>= 1\n",
    "    return p \n",
    "\n",
    "def is_b10_pal(n: int) -> bool:\n",
    "    \"\"\"True if n is a decimal palindrome\"\"\"\n",
    "    s = str(n)\n",
    "    return s == s[::-1]\n",
    "\n",
    "def sum_2base_pals(limit: int) -> int:\n",
    "    \"\"\"sums double base palindromes below limit\"\"\"\n",
    "    psum = 0\n",
    "    for odd in (True, False):\n",
    "        for n in itertools.count(1):\n",
    "            p = make_bit_pal(n, odd)\n",
    "            if p >= limit: break\n",
    "            if is_b10_pal(p): psum += p\n",
    "    return psum"
   ]
  },
  {
   "cell_type": "code",
   "execution_count": 4,
   "metadata": {},
   "outputs": [],
   "source": [
    "assert sum_2base_pals(1000000) == 872187"
   ]
  },
  {
   "cell_type": "markdown",
   "metadata": {},
   "source": [
    "#### Answer: 872187\n",
    "---"
   ]
  },
  {
   "cell_type": "markdown",
   "metadata": {},
   "source": [
    "## Truncatable primes\n",
    "### Problem #37\n",
    "\n",
    "The number 3797 has an interesting property. Being prime itself, it is possible to continuously remove digits from left to right, and remain prime at each stage: 3797, 797, 97, and 7. Similarly we can work from right to left: 3797, 379, 37, and 3.\n",
    "\n",
    "Find the sum of the only eleven primes that are both truncatable from left to right and right to left.\n",
    "\n",
    "##### NOTE: 2, 3, 5, and 7 are not considered to be truncatable primes."
   ]
  },
  {
   "cell_type": "code",
   "execution_count": 5,
   "metadata": {},
   "outputs": [],
   "source": [
    "class PrimeSieve():\n",
    "\n",
    "    def __init__(self, n: int):\n",
    "        \"\"\"instantiates a sieve of size n\"\"\"\n",
    "        ps = [True]*(n>>1)\n",
    "        for i in range(3, int(n**0.5), 2):\n",
    "            if not ps[(i-3)>>1]: continue\n",
    "            for j in range(i*i, n, i):\n",
    "                if j&1: ps[(j-3)>>1] = False\n",
    "        self.size = n\n",
    "        self.sieve = ps\n",
    "\n",
    "    def is_prime(self, n:int) -> bool:\n",
    "        \"\"\"True if n is prime\"\"\"\n",
    "        if n < 2: return False\n",
    "        return self.sieve[(n-3)>>1] if n&1 else n==2\n",
    "    \n",
    "    def primes(self):\n",
    "        \"\"\"iterable over primes on the sieve\"\"\"\n",
    "        return filter(self.is_prime, range(2, self.size))"
   ]
  },
  {
   "cell_type": "code",
   "execution_count": 6,
   "metadata": {},
   "outputs": [],
   "source": [
    "def truncations(s: str) -> str:\n",
    "    \"\"\"iterates over truncations of s (excluding s)\"\"\"\n",
    "    rs, ls = s, s\n",
    "    while len(rs) > 1: # right\n",
    "        rs = rs[:-1]\n",
    "        yield rs\n",
    "    while len(ls) > 1: # left\n",
    "        ls = ls[1:]\n",
    "        yield ls"
   ]
  },
  {
   "cell_type": "code",
   "execution_count": 7,
   "metadata": {},
   "outputs": [],
   "source": [
    "class TruncablePrimes(PrimeSieve):\n",
    "    \n",
    "    def is_truncable_prime(self, n: int) -> bool:\n",
    "        \"\"\"True if n is a truncable prime\"\"\"\n",
    "        if not self.is_prime(n): return False\n",
    "        for k in map(int, truncations(str(n))): \n",
    "            if not self.is_prime(k): return False\n",
    "        return True\n",
    "    \n",
    "    def truncables(self):\n",
    "        \"\"\"iterable over the truncables primes on the sieve\"\"\"\n",
    "        return filter(self.is_truncable_prime, range(23, self.size, 2))  "
   ]
  },
  {
   "cell_type": "code",
   "execution_count": 8,
   "metadata": {},
   "outputs": [],
   "source": [
    "assert sum(TruncablePrimes(999999).truncables()) == 748317"
   ]
  },
  {
   "cell_type": "markdown",
   "metadata": {},
   "source": [
    "#### Answer: 748317\n",
    "---"
   ]
  },
  {
   "cell_type": "markdown",
   "metadata": {},
   "source": [
    "## Pandigital multiples\n",
    "### Problem #38\n",
    "\n",
    "Take the number 192 and multiply it by each of 1, 2, and 3:\n",
    "\n",
    "&emsp; 192 × 1 = 192  \n",
    "&emsp; 192 × 2 = 384  \n",
    "&emsp; 192 × 3 = 576  \n",
    "\n",
    "By concatenating each product we get the 1 to 9 pandigital, 192384576. We will call 192384576 the concatenated product of 192 and (1,2,3)\n",
    "\n",
    "The same can be achieved by starting with 9 and multiplying by 1, 2, 3, 4, and 5, giving the pandigital, 918273645, which is the concatenated product of 9 and (1,2,3,4,5).\n",
    "\n",
    "What is the largest 1 to 9 pandigital 9-digit number that can be formed as the concatenated product of an integer with (1,2, ... , n) where n > 1?"
   ]
  },
  {
   "cell_type": "code",
   "execution_count": 9,
   "metadata": {},
   "outputs": [],
   "source": [
    "def max_pandigital_multiple():\n",
    "    \"\"\"largest 1-9 pandigital in the form k*(1,2,...,n)\"\"\"\n",
    "    test_cases = ((9876,999,3), (987,99,4), (98,9,5), (9,0,6))\n",
    "    pmax = 0\n",
    "    for case in test_cases:\n",
    "        for k in range(case[0], case[1], -1):\n",
    "            sk = ''\n",
    "            for n in range(1, case[2]):\n",
    "                sk += str(n*k)\n",
    "            if len(sk) == 9 == len(set(sk)) and '0' not in sk:\n",
    "                pmax = max(pmax, int(sk))\n",
    "                break\n",
    "    return pmax"
   ]
  },
  {
   "cell_type": "code",
   "execution_count": 10,
   "metadata": {},
   "outputs": [],
   "source": [
    "assert max_pandigital_multiple() == 932718654"
   ]
  },
  {
   "cell_type": "markdown",
   "metadata": {},
   "source": [
    "#### Answer: 932718654\n",
    "---"
   ]
  },
  {
   "cell_type": "markdown",
   "metadata": {},
   "source": [
    "## Integer right triangles\n",
    "### Problem #39\n",
    "\n",
    "If p is the perimeter of a right angle triangle with integral length sides, {a,b,c}, there are exactly three solutions for p = 120.\n",
    "\n",
    "{20,48,52}, {24,45,51}, {30,40,50}\n",
    "\n",
    "For which value of p ≤ 1000, is the number of solutions maximised?"
   ]
  },
  {
   "cell_type": "code",
   "execution_count": 11,
   "metadata": {},
   "outputs": [],
   "source": [
    "def max_perimeter(limit: int) -> int:\n",
    "    \"\"\"perimeter with maximun number of right angle triangles under limit\"\"\"\n",
    "    h = {}\n",
    "    m = limit//2 + 1\n",
    "    for p in (a + b + (a*a + b*b)**0.5 \n",
    "              for a in range(1, m) for b in range(a + 1, m - a)):\n",
    "        k = int(p)\n",
    "        if p == k:\n",
    "            if k in h: h[k] +=1 \n",
    "            else: h[k] = 1\n",
    "    _, p = max((n,p) for p,n in h.items())\n",
    "    return p"
   ]
  },
  {
   "cell_type": "code",
   "execution_count": 12,
   "metadata": {},
   "outputs": [],
   "source": [
    "assert max_perimeter(1000) == 840"
   ]
  },
  {
   "cell_type": "markdown",
   "metadata": {},
   "source": [
    "#### Answer: 840\n",
    "---"
   ]
  },
  {
   "cell_type": "markdown",
   "metadata": {},
   "source": [
    "## Champernowne's constant\n",
    "### Problem #40\n",
    "\n",
    "An irrational decimal fraction is created by concatenating the positive integers:\n",
    "\n",
    "<p><center>0.12345678910<b>1</b>112131415161718192021...</center></p>\n",
    "\n",
    "It can be seen that the 12<sup>th</sup> digit of the fractional part is 1.\n",
    "\n",
    "If d<sub>n</sub> represents the n<sup>th</sup> digit of the fractional part, find the value of the following expression. \n",
    "\n",
    "<p><center>d<sub>1</sub> × d<sub>10</sub> × d<sub>100</sub> × d<sub>1000</sub> × d<sub>10000</sub> × d<sub>100000</sub> × d<sub>1000000</sub></center></p>"
   ]
  },
  {
   "cell_type": "code",
   "execution_count": 13,
   "metadata": {},
   "outputs": [],
   "source": [
    "from functools import reduce\n",
    "from operator import mul\n",
    "\n",
    "# just go for it...\n",
    "champ = ''.join(map(str, range(10**6)))\n",
    "assert reduce(mul, (int(champ[10**i]) for i in range(6))) == 210"
   ]
  },
  {
   "cell_type": "code",
   "execution_count": 14,
   "metadata": {},
   "outputs": [],
   "source": [
    "from itertools import count\n",
    "\n",
    "# gets the digits wihout generating the whole thing\n",
    "p, t, j = 1, 1, 1\n",
    "for n in count(1):\n",
    "    s = str(n)\n",
    "    i, j = j, j + len(s)\n",
    "    if i <= t < j:\n",
    "        p *= int(s[t-i])\n",
    "        t *= 10\n",
    "    if t > 1000000: break\n",
    "            \n",
    "assert p == 210"
   ]
  },
  {
   "cell_type": "markdown",
   "metadata": {},
   "source": [
    "#### Answer: 210\n",
    "---"
   ]
  },
  {
   "cell_type": "code",
   "execution_count": null,
   "metadata": {},
   "outputs": [],
   "source": []
  }
 ],
 "metadata": {
  "kernelspec": {
   "display_name": "Python 3",
   "language": "python",
   "name": "python3"
  },
  "language_info": {
   "codemirror_mode": {
    "name": "ipython",
    "version": 3
   },
   "file_extension": ".py",
   "mimetype": "text/x-python",
   "name": "python",
   "nbconvert_exporter": "python",
   "pygments_lexer": "ipython3",
   "version": "3.7.6"
  }
 },
 "nbformat": 4,
 "nbformat_minor": 4
}
