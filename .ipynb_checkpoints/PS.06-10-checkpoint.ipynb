{
 "cells": [
  {
   "cell_type": "markdown",
   "metadata": {},
   "source": [
    "<h1>Project Euler Problem Set in Python</h1><h3>Problems 1 - 5</h3>"
   ]
  },
  {
   "cell_type": "code",
   "execution_count": 77,
   "metadata": {},
   "outputs": [],
   "source": [
    "import math"
   ]
  },
  {
   "cell_type": "markdown",
   "metadata": {},
   "source": [
    "<h2>Multiples of 3 and 5</h2><h3>Problem #1</h3>Find the sum of all the multiples of 3 or 5 below 1000."
   ]
  },
  {
   "cell_type": "code",
   "execution_count": 83,
   "metadata": {},
   "outputs": [
    {
     "name": "stdout",
     "output_type": "stream",
     "text": [
      "233168\n"
     ]
    }
   ],
   "source": [
    "# trivial solution (not efficient)\n",
    "# print(sum(n for n in range(3,1000) if n%3 == 0 or n%5 == 0))\n",
    "#\n",
    "# trick: use sum formula n*(n+1)/2 applied to multiples\n",
    "#        3+6+9+12...999 = 3*(1+2+3+4+...limit//3)\n",
    "def sum_mult_of(n, limit):\n",
    "    k = limit//n\n",
    "    return n*k*(k+1)>>1\n",
    "  \n",
    "limit = 999 # add sums of multiples of 3 and 5, but substract 15\n",
    "print(sum_mult_of(3,limit)+sum_mult_of(5,limit)-sum_mult_of(15,limit))"
   ]
  },
  {
   "cell_type": "markdown",
   "metadata": {},
   "source": [
    "<h2>Even Fibonacci numbers</h2><h3>Problem #2</h3>By considering the terms in the Fibonacci sequence whose values do not exceed four million, find the sum of the even-valued terms."
   ]
  },
  {
   "cell_type": "code",
   "execution_count": 84,
   "metadata": {},
   "outputs": [
    {
     "name": "stdout",
     "output_type": "stream",
     "text": [
      "4613732\n"
     ]
    }
   ],
   "source": [
    "# trick: every 3rd fibbo is even, skip asking for even\n",
    "def sum_even_fibo(limit):\n",
    "    s,a,b,c = 0,1,1,2\n",
    "    while c < limit:\n",
    "        s += c\n",
    "        a = b+c\n",
    "        b = a+c\n",
    "        c = a+b\n",
    "    return s\n",
    "\n",
    "print(sum_even_fibo(4000000))"
   ]
  },
  {
   "cell_type": "markdown",
   "metadata": {},
   "source": [
    "<h2>Largest prime factor</h2><h3>Problem #3</h3>What is the largest prime factor of the number 600.851.475.143?"
   ]
  },
  {
   "cell_type": "code",
   "execution_count": 72,
   "metadata": {},
   "outputs": [
    {
     "name": "stdout",
     "output_type": "stream",
     "text": [
      "6857\n"
     ]
    }
   ],
   "source": [
    "# an efficient way to get prime factors\n",
    "def factors(n): \n",
    "    l = []\n",
    "    if n < 2: return l\n",
    "    if n&1==0:\n",
    "        l.append(2)\n",
    "        while n&1==0: n>>=1\n",
    "    i = 3\n",
    "    m = int(math.sqrt(n))+1\n",
    "    while i < m:\n",
    "        if n%i==0:\n",
    "            l.append(i)\n",
    "            while n%i==0: n//=i\n",
    "        i+= 2\n",
    "        m = int(math.sqrt(n))+1\n",
    "    if n>2: l.append(n)\n",
    "    return l\n",
    "\n",
    "print(max(factors(600851475143)))"
   ]
  },
  {
   "cell_type": "markdown",
   "metadata": {},
   "source": [
    "<h2>Largest palindrome product</h2><h3>Problem #4</h3>Find the largest palindrome made from the product of two 3-digit numbers."
   ]
  },
  {
   "cell_type": "code",
   "execution_count": 31,
   "metadata": {},
   "outputs": [
    {
     "name": "stdout",
     "output_type": "stream",
     "text": [
      "906609\n"
     ]
    }
   ],
   "source": [
    "def is_palindrome(n):\n",
    "    r = 0\n",
    "    k = n\n",
    "    while k > 0:\n",
    "        r = 10*r + k%10\n",
    "        k = k//10\n",
    "    return r == n\n",
    "\n",
    "def max_pal(limit):\n",
    "    m = 0\n",
    "    a = limit\n",
    "    while a > 1:\n",
    "        b = a;\n",
    "        while b > 1:\n",
    "            x = a*b\n",
    "            if x <= m: break\n",
    "            if is_palindrome(x):\n",
    "                m = max(x, m)\n",
    "            b -= 1;\n",
    "        a -= 1;\n",
    "    return m\n",
    "\n",
    "print(max_pal(999))"
   ]
  },
  {
   "cell_type": "markdown",
   "metadata": {},
   "source": [
    "<h2>Smallest multiple</h2><h3>Problem #5</h3>What is the smallest positive number that is evenly divisible by all of the numbers from 1 to 20?"
   ]
  },
  {
   "cell_type": "code",
   "execution_count": 92,
   "metadata": {},
   "outputs": [
    {
     "name": "stdout",
     "output_type": "stream",
     "text": [
      "232792560\n"
     ]
    }
   ],
   "source": [
    "primes = [2, 3, 5, 7, 11, 13, 17, 19]\n",
    "\n",
    "def prod(values):\n",
    "    p = 1\n",
    "    for i in values:\n",
    "        p *= i\n",
    "    return p\n",
    "\n",
    "def get_factor(n):\n",
    "    p = 1\n",
    "    for i in primes:\n",
    "        if n%i == 0:\n",
    "            p = i\n",
    "            break\n",
    "    return p\n",
    "\n",
    "def min_mult(limit):\n",
    "    p = prod(primes)\n",
    "    for i in range(1, limit):\n",
    "        if p%i != 0: \n",
    "            p *= get_factor(i)\n",
    "    return p\n",
    "\n",
    "print(min_mult(21))"
   ]
  },
  {
   "cell_type": "code",
   "execution_count": null,
   "metadata": {},
   "outputs": [],
   "source": []
  }
 ],
 "metadata": {
  "kernelspec": {
   "display_name": "Python 3",
   "language": "python",
   "name": "python3"
  },
  "language_info": {
   "codemirror_mode": {
    "name": "ipython",
    "version": 3
   },
   "file_extension": ".py",
   "mimetype": "text/x-python",
   "name": "python",
   "nbconvert_exporter": "python",
   "pygments_lexer": "ipython3",
   "version": "3.7.6"
  }
 },
 "nbformat": 4,
 "nbformat_minor": 4
}
