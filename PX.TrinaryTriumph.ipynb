{
 "cells": [
  {
   "cell_type": "markdown",
   "metadata": {},
   "source": [
    "# Project Euler Problem Set in Python\n",
    "### Problems 81 and 77\n",
    "\n",
    "(Solve problems: 1, 3, 9, 27, 81, and 243)"
   ]
  },
  {
   "cell_type": "markdown",
   "metadata": {},
   "source": [
    "## Path sum: two ways\n",
    "### Problem 81\n",
    "\n",
    "In the 5 by 5 matrix below, the minimal path sum from the top left to the bottom right, by only moving to the right and down, is indicated in bold red and is equal to 2427.\n",
    "\n",
    "\\begin{pmatrix}\n",
    "\\color{red}{131} & 673 & 234 & 103 & 18\\\\\n",
    "\\color{red}{201} & \\color{red}{96} & \\color{red}{342} & 965 & 150\\\\\n",
    "630 & 803 & \\color{red}{746} & \\color{red}{422} & 111\\\\\n",
    "537 & 699 & 497 & \\color{red}{121} & 956\\\\\n",
    "805 & 732 & 524 & \\color{red}{37} & \\color{red}{331}\n",
    "\\end{pmatrix}  \n",
    "\n",
    "Find the minimal path sum from the top left to the bottom right by only moving right and down in [matrix.txt](p081_matrix.txt) (right click and \"Save Link/Target As...\"), a 31K text file containing an 80 by 80 matrix."
   ]
  },
  {
   "cell_type": "code",
   "execution_count": 14,
   "metadata": {},
   "outputs": [],
   "source": [
    "def old_min_path_sum(triangle):\n",
    "    # solution for problems 18 a and 67: Maximum path sum I & II\n",
    "    while len(triangle) > 1:\n",
    "        for i in range(len(triangle[-2])):\n",
    "            triangle[-2][i] += min(triangle[-1][i], triangle[-1][i+1])\n",
    "        triangle.pop(-1)\n",
    "    return triangle[0][0]\n",
    "\n",
    "def matrix_to_triangle_cheat(matrix, size):\n",
    "    # transform matrix to triangle (binary tree) and reuse old code ;-)\n",
    "    triangle = []\n",
    "    for i in range(size):\n",
    "        triangle.append([])\n",
    "        for j in range(0, i+1):\n",
    "            triangle[i].append(matrix[i-j][j])\n",
    "    for i in range(1, size):\n",
    "        triangle.append([])\n",
    "        for j in range(i, size):\n",
    "            triangle[i+size-1].append(matrix[size-1-j+i][j])\n",
    "    for i in range(size, 2*size-1):\n",
    "        for _ in range(i-size+1):\n",
    "            triangle[i].insert(0, triangle[i][0])\n",
    "            triangle[i].append(triangle[i][-1])\n",
    "    return triangle"
   ]
  },
  {
   "cell_type": "code",
   "execution_count": 15,
   "metadata": {},
   "outputs": [],
   "source": [
    "matrix = []\n",
    "with open('p081_matrix.txt') as f: lines = f.read().strip().split('\\n')\n",
    "for line in lines: matrix.append([*map(int, line.split(','))])\n",
    "\n",
    "assert old_min_path_sum(matrix_to_triangle_cheat(matrix, 80)) == 427337"
   ]
  },
  {
   "cell_type": "code",
   "execution_count": 18,
   "metadata": {},
   "outputs": [],
   "source": [
    "def min_path_sum(matrix): \n",
    "    for i in reversed(range(len(matrix))):\n",
    "        for j in reversed(range(len(matrix[i]))):\n",
    "            if i + 1 < len(matrix) and j + 1 < len(matrix[i]):\n",
    "                temp = min(matrix[i + 1][j], matrix[i][j + 1])\n",
    "            elif i + 1 < len(matrix):\n",
    "                temp = matrix[i + 1][j]\n",
    "            elif j + 1 < len(matrix[i]):\n",
    "                temp = matrix[i][j + 1]\n",
    "            else:\n",
    "                temp = 0\n",
    "            matrix[i][j] += temp\n",
    "    return matrix[0][0]"
   ]
  },
  {
   "cell_type": "code",
   "execution_count": 20,
   "metadata": {},
   "outputs": [],
   "source": [
    "matrix = []\n",
    "with open('p081_matrix.txt') as f: lines = f.read().strip().split('\\n')\n",
    "for line in lines: matrix.append([*map(int, line.split(','))])\n",
    "\n",
    "assert min_path_sum2(matrix) == 427337"
   ]
  },
  {
   "cell_type": "markdown",
   "metadata": {},
   "source": [
    "## Resilience\n",
    "### Problem 243\n",
    "\n",
    "A positive fraction whose numerator is less than its denominator is called a proper fraction.\n",
    "For any denominator, d, there will be d−1 proper fractions; for example, with $d = 12$:\n",
    "\n",
    "$$\n",
    "1/12 , 2/12 , 3/12 , 4/12 , 5/12 , 6/12 , 7/12 , 8/12 , 9/12 , 10/12 , 11/12 .\n",
    "$$\n",
    "\n",
    "We shall call a fraction that cannot be cancelled down a *resilient* fraction.\n",
    "\n",
    "Furthermore we shall define the *resilience* of a denominator, $R(d)$, to be the ratio of its proper fractions that are resilient; for example, $R(12) = 4/11$.\n",
    "\n",
    "In fact, $d = 12$ is the smallest denominator having a resilience $R(d) < 4/10$.\n",
    "\n",
    "Find the smallest denominator $d$, having a resilience $R(d) < 15499/94744$. "
   ]
  },
  {
   "cell_type": "code",
   "execution_count": 25,
   "metadata": {},
   "outputs": [],
   "source": [
    "from sympy import nextprime\n",
    "from fractions import Fraction as F\n",
    "\n",
    "def resilience_below(target):\n",
    "    totient, denom = 1, 1\n",
    "    p = 2\n",
    "    while F(totient, denom) >= target:\n",
    "        denom *= p\n",
    "        totient *= p-1\n",
    "        p = nextprime(p)\n",
    "    for i in range(1, p):\n",
    "        n = i*totient\n",
    "        d = i*denom\n",
    "        if F(n, d-1) < target:\n",
    "            return d"
   ]
  },
  {
   "cell_type": "code",
   "execution_count": 49,
   "metadata": {},
   "outputs": [],
   "source": [
    "assert resilience_below(F(15499, 94744)) == 892371480"
   ]
  },
  {
   "cell_type": "markdown",
   "metadata": {},
   "source": [
    "#### Answer: 892371480\n",
    "---"
   ]
  }
 ],
 "metadata": {
  "kernelspec": {
   "display_name": "Python 3",
   "language": "python",
   "name": "python3"
  },
  "language_info": {
   "codemirror_mode": {
    "name": "ipython",
    "version": 3
   },
   "file_extension": ".py",
   "mimetype": "text/x-python",
   "name": "python",
   "nbconvert_exporter": "python",
   "pygments_lexer": "ipython3",
   "version": "3.7.6"
  }
 },
 "nbformat": 4,
 "nbformat_minor": 4
}
