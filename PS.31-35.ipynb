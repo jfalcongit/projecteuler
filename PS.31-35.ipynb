{
 "cells": [
  {
   "cell_type": "markdown",
   "metadata": {},
   "source": [
    "# Project Euler Problem Set in Python\n",
    "### Problems 31 - 35"
   ]
  },
  {
   "cell_type": "markdown",
   "metadata": {},
   "source": [
    "## Coin sums\n",
    "### Problem #31\n",
    "\n",
    "In the United Kingdom the currency is made up of pound (£) and pence (p). There are eight coins in general circulation:\n",
    "\n",
    "1p, 2p, 5p, 10p, 20p, 50p, £1 (100p), and £2 (200p).\n",
    "It is possible to make £2 in the following way:\n",
    "\n",
    "1×£1 + 1×50p + 2×20p + 1×5p + 1×2p + 3×1p\n",
    "How many different ways can £2 be made using any number of coins?"
   ]
  },
  {
   "cell_type": "code",
   "execution_count": 1,
   "metadata": {},
   "outputs": [],
   "source": [
    "def count_coint_sums(total: int, coins: list) -> int:\n",
    "    \"\"\"counts different ways of summing 'total' with 'coins'\n",
    "    \n",
    "    Args\n",
    "        total (int): target sum \n",
    "        coins (iterable): allowed coin values\n",
    "        \n",
    "    Returns\n",
    "        int: different ways of summing 'total' with 'coins'\n",
    "        \n",
    "    \"\"\"\n",
    "    ways = [1] + [0] * total\n",
    "    for coin in coins:\n",
    "        for i in range(total - coin + 1):\n",
    "            ways[i + coin] += ways[i]\n",
    "    return ways[-1]"
   ]
  },
  {
   "cell_type": "code",
   "execution_count": 2,
   "metadata": {},
   "outputs": [],
   "source": [
    "assert count_coint_sums(200, (1, 2, 5, 10, 20, 50, 100, 200)) == 73682"
   ]
  },
  {
   "cell_type": "markdown",
   "metadata": {},
   "source": [
    "#### Answer: 73682\n",
    "---"
   ]
  },
  {
   "cell_type": "markdown",
   "metadata": {},
   "source": [
    "## Pandigital products\n",
    "### Problem #32\n",
    "\n",
    "We shall say that an n-digit number is pandigital if it makes use of all the digits 1 to n exactly once; for example, the 5-digit number, 15234, is 1 through 5 pandigital.\n",
    "\n",
    "The product 7254 is unusual, as the identity, 39 × 186 = 7254, containing multiplicand, multiplier, and product is 1 through 9 pandigital.\n",
    "\n",
    "Find the sum of all products whose multiplicand/multiplier/product identity can be written as a 1 through 9 pandigital.\n",
    "\n",
    "##### HINT: Some products can be obtained in more than one way so be sure to only include it once in your sum."
   ]
  },
  {
   "cell_type": "code",
   "execution_count": 3,
   "metadata": {},
   "outputs": [],
   "source": [
    "from math import sqrt\n",
    "\n",
    "def is_pandigital(a: int, b: int, c: int) -> bool:\n",
    "    \"\"\"True if abc forms a pandigital\"\"\"\n",
    "    s = f'{a}{b}{c}'\n",
    "    if '0' in s: return False\n",
    "    return len(s) == 9 == len(set(s))\n",
    "\n",
    "def pandigital_products_sum() -> int:\n",
    "    \"\"\"the sum of all existing distinct \n",
    "    1..9 pandigital products abc where a*b=c\"\"\"\n",
    "    s = 0         \n",
    "    for c in range(1234, 9876): \n",
    "        for b in range(2, int(sqrt(c))+1): \n",
    "            if c%b == 0:\n",
    "                a = c//b\n",
    "                if is_pandigital(a, b, c):\n",
    "                    s += c\n",
    "                    break\n",
    "    return s"
   ]
  },
  {
   "cell_type": "code",
   "execution_count": 4,
   "metadata": {},
   "outputs": [],
   "source": [
    "assert pandigital_products_sum() == 45228"
   ]
  },
  {
   "cell_type": "markdown",
   "metadata": {},
   "source": [
    "#### Answer: 45228\n",
    "---"
   ]
  },
  {
   "cell_type": "markdown",
   "metadata": {},
   "source": [
    "## Digit cancelling fractions\n",
    "### Problem #33\n",
    "\n",
    "The fraction $49/98$ is a curious fraction, as an inexperienced mathematician in attempting to simplify it may incorrectly believe that $49/98 = 4/8$, which is correct, is obtained by cancelling the $9$s.\n",
    "\n",
    "We shall consider fractions like, $30/50 = 3/5$, to be trivial examples.\n",
    "\n",
    "There are exactly four non-trivial examples of this type of fraction, less than one in value, and containing two digits in the numerator and denominator.\n",
    "\n",
    "If the product of these four fractions is given in its lowest common terms, find the value of the denominator."
   ]
  },
  {
   "cell_type": "code",
   "execution_count": 5,
   "metadata": {},
   "outputs": [],
   "source": [
    "from fractions import Fraction\n",
    "\n",
    "def cancel_digit(n:int, d:int) -> Fraction:\n",
    "    \"\"\"cancels a common digit (ignores 0)\n",
    "    args\n",
    "        n: numerator\n",
    "        d: denominator\n",
    "    returns\n",
    "        the resulting fraction\n",
    "    \"\"\"\n",
    "    if n%10 == d//10 and d%10: \n",
    "        f = Fraction(n//10, d%10)\n",
    "    elif n//10 == d%10 and d%10: \n",
    "        f = Fraction(n%10, d//10)\n",
    "    else: \n",
    "        f = Fraction()\n",
    "    return f\n",
    "\n",
    "def cancel_digit_product(a: int, b: int) -> Fraction:\n",
    "    \"\"\"multiplies all digit canceling fractions in [a, b]\"\"\"\n",
    "    prod = Fraction(1)\n",
    "    for d in range(a, b):\n",
    "        for n in range(a, d):\n",
    "            f = Fraction(n, d)\n",
    "            if cancel_digit(n, d) == f:\n",
    "                prod *= f\n",
    "    return prod"
   ]
  },
  {
   "cell_type": "code",
   "execution_count": 6,
   "metadata": {},
   "outputs": [],
   "source": [
    "assert cancel_digit_product(12, 99).denominator == 100"
   ]
  },
  {
   "cell_type": "code",
   "execution_count": 7,
   "metadata": {},
   "outputs": [],
   "source": [
    "# optimized\n",
    "xn, xd = 1, 1\n",
    "for d in range(1, 10):\n",
    "    for n in range(1, d):\n",
    "        x = 9*n*d/(10*n-d)\n",
    "        if int(x) == x and x < 10:\n",
    "            xn, xd = xn*n, xd*d\n",
    "            \n",
    "assert xd//xn == 100"
   ]
  },
  {
   "cell_type": "markdown",
   "metadata": {},
   "source": [
    "#### Answer: 100\n",
    "---"
   ]
  },
  {
   "cell_type": "markdown",
   "metadata": {},
   "source": [
    "## Digit factorials\n",
    "### Problem #34\n",
    "\n",
    "$145$ is a curious number, as $1! + 4! + 5! = 1 + 24 + 120 = 145$.\n",
    "\n",
    "Find the sum of all numbers which are equal to the sum of the factorial of their digits.\n",
    "\n",
    "##### Note: as $1! = 1$ and $2! = 2$ are not sums they are not included."
   ]
  },
  {
   "cell_type": "code",
   "execution_count": 8,
   "metadata": {},
   "outputs": [],
   "source": [
    "# table for digit factorials: 0! to 9!\n",
    "_dfact = [1, 1, 2, 6, 24, 120, 720, 5040, 40320, 362880]\n",
    "\n",
    "def sum_digit_fact(n: int) -> int:\n",
    "    \"sum factorials of digits of n\"\n",
    "    s = 0\n",
    "    while n > 0:\n",
    "        s += _dfact[(n%10)]\n",
    "        n //= 10\n",
    "    return s"
   ]
  },
  {
   "cell_type": "code",
   "execution_count": 9,
   "metadata": {},
   "outputs": [],
   "source": [
    "assert sum(n for n in range(99,99999) if n == sum_digit_fact(n)) == 40730"
   ]
  },
  {
   "cell_type": "markdown",
   "metadata": {},
   "source": [
    "#### Answer: 40730\n",
    "---"
   ]
  },
  {
   "cell_type": "markdown",
   "metadata": {},
   "source": [
    "## Circular primes\n",
    "### Problem #35\n",
    "\n",
    "The number, 197, is called a circular prime because all rotations of the digits: 197, 971, and 719, are themselves prime.\n",
    "\n",
    "There are thirteen such primes below 100: 2, 3, 5, 7, 11, 13, 17, 31, 37, 71, 73, 79, and 97.\n",
    "\n",
    "How many circular primes are there below one million?"
   ]
  },
  {
   "cell_type": "code",
   "execution_count": 10,
   "metadata": {},
   "outputs": [],
   "source": [
    "from math import sqrt\n",
    "\n",
    "def get_prime_sieve(n: int) -> list:\n",
    "    \"\"\"list of bools indicating primality of odd numbers k, 1 < k < n\"\"\"\n",
    "    pt = [True]*(n>>1)\n",
    "    for i in range(3, int(sqrt(n)), 2):\n",
    "        if not pt[(i-3)>>1]: continue\n",
    "        for j in range(i*i, n, i):\n",
    "            if j&1: pt[(j-3)>>1] = False\n",
    "    return pt\n",
    "\n",
    "def is_prime(p: int, sieve: list) -> bool:\n",
    "    \"\"\"True in p is prime, using a pre-generated prime sieve\"\"\"\n",
    "    if p < 2: return False\n",
    "    return sieve[(p-3)>>1] if p&1 else p==2"
   ]
  },
  {
   "cell_type": "code",
   "execution_count": 11,
   "metadata": {},
   "outputs": [],
   "source": [
    "def rotations(chars: str) -> str:\n",
    "    \"\"\"iterates over the rotations of chars\"\"\"\n",
    "    for i in range(len(chars)):\n",
    "        yield chars[i:] + chars[:i]\n",
    "\n",
    "def is_circular_prime(n: int, ps: list) -> bool:\n",
    "    \"\"\"True in p is circular-prime, using a pre-generated prime sieve\"\"\"\n",
    "    if not is_prime(n, ps): return False\n",
    "    for r in rotations(str(n)): \n",
    "        if not is_prime(int(r), ps): return False    \n",
    "    return True"
   ]
  },
  {
   "cell_type": "code",
   "execution_count": 12,
   "metadata": {},
   "outputs": [],
   "source": [
    "N = 1000000 \n",
    "sieve = get_prime_sieve(N) "
   ]
  },
  {
   "cell_type": "code",
   "execution_count": 13,
   "metadata": {},
   "outputs": [],
   "source": [
    "assert sum((1 for n in range(3, N, 2) if is_circular_prime(n, sieve)), 1) == 55"
   ]
  },
  {
   "cell_type": "markdown",
   "metadata": {},
   "source": [
    "#### Answer: 55\n",
    "---"
   ]
  },
  {
   "cell_type": "code",
   "execution_count": null,
   "metadata": {},
   "outputs": [],
   "source": []
  }
 ],
 "metadata": {
  "kernelspec": {
   "display_name": "Python 3",
   "language": "python",
   "name": "python3"
  },
  "language_info": {
   "codemirror_mode": {
    "name": "ipython",
    "version": 3
   },
   "file_extension": ".py",
   "mimetype": "text/x-python",
   "name": "python",
   "nbconvert_exporter": "python",
   "pygments_lexer": "ipython3",
   "version": "3.7.6"
  }
 },
 "nbformat": 4,
 "nbformat_minor": 4
}
