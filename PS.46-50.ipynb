{
 "cells": [
  {
   "cell_type": "markdown",
   "metadata": {},
   "source": [
    "# Project Euler Problem Set in Python\n",
    "### Problems 46 - 50"
   ]
  },
  {
   "cell_type": "markdown",
   "metadata": {},
   "source": [
    "## Goldbach's other conjecture\n",
    "### Problem 46\n",
    "\n",
    "It was proposed by Christian Goldbach that every odd composite number can be written as the sum of a prime and twice a square.\n",
    "\n",
    "$\\quad 9 = 7 + 2×1^2$  \n",
    "$\\quad 15 = 7 + 2×2^2$  \n",
    "$\\quad 21 = 3 + 2×3^2$  \n",
    "$\\quad 25 = 7 + 2×3^2$  \n",
    "$\\quad 27 = 19 + 2×2^2$  \n",
    "$\\quad 33 = 31 + 2×1^2$  \n",
    "\n",
    "It turns out that the conjecture was false.\n",
    "\n",
    "What is the smallest odd composite that cannot be written as the sum of a prime and twice a square?"
   ]
  },
  {
   "cell_type": "code",
   "execution_count": 1,
   "metadata": {},
   "outputs": [],
   "source": [
    "from sympy import isprime\n",
    "from itertools import filterfalse, count\n",
    "\n",
    "def test_goldbach():\n",
    "    return next(filterfalse(goldbach, count(33, 2)))\n",
    "\n",
    "def goldbach(n):\n",
    "    if n%2 == 0 or isprime(n): \n",
    "        return True\n",
    "    for i in count(1):\n",
    "        k = n - 2*i*i\n",
    "        if k <= 0: \n",
    "            return False\n",
    "        elif isprime(k):\n",
    "            return True"
   ]
  },
  {
   "cell_type": "code",
   "execution_count": 2,
   "metadata": {},
   "outputs": [],
   "source": [
    "assert test_goldbach() == 5777"
   ]
  },
  {
   "cell_type": "markdown",
   "metadata": {},
   "source": [
    "#### Answer: 5777\n",
    "---"
   ]
  },
  {
   "cell_type": "markdown",
   "metadata": {},
   "source": [
    "## Distinct primes factors\n",
    "### Problem 47\n",
    "\n",
    "The first two consecutive numbers to have two distinct prime factors are:\n",
    "\n",
    "$\\quad\\quad\\quad 14 = 2 × 7$  \n",
    "$\\quad\\quad\\quad 15 = 3 × 5$  \n",
    "\n",
    "The first three consecutive numbers to have three distinct prime factors are:\n",
    "\n",
    "$\\quad\\quad\\quad 644 = 2^2 × 7 × 23$  \n",
    "$\\quad\\quad\\quad 645 = 3 × 5 × 43$  \n",
    "$\\quad\\quad\\quad 646 = 2 × 17 × 19$  \n",
    "\n",
    "Find the first four consecutive integers to have four distinct prime factors each. What is the first of these numbers?"
   ]
  },
  {
   "cell_type": "code",
   "execution_count": 3,
   "metadata": {},
   "outputs": [],
   "source": [
    "def memoize(f):\n",
    "    h = {}\n",
    "    def g(x):\n",
    "        if x in h:\n",
    "            return h[x]\n",
    "        y = f(x)\n",
    "        h[x] = y\n",
    "        return y\n",
    "    return g"
   ]
  },
  {
   "cell_type": "code",
   "execution_count": 4,
   "metadata": {},
   "outputs": [],
   "source": [
    "from math import sqrt\n",
    "\n",
    "@memoize\n",
    "def count_factors(n:int) -> list:\n",
    "    fc = 0\n",
    "    if n < 2: return fc\n",
    "    if n%2 == 0:\n",
    "        fc += 1\n",
    "        while n%2 == 0: n //= 2\n",
    "    if n%3 == 0:\n",
    "        fc += 1\n",
    "        while n%3 == 0: n //= 3\n",
    "    i = 5\n",
    "    m = int(sqrt(n))+1\n",
    "    while i < m:\n",
    "        if n%i == 0:\n",
    "            fc += 1\n",
    "            m = int(sqrt(n))+1\n",
    "            while n%i == 0: n //= i\n",
    "        i += 2\n",
    "        if i < m and n%i == 0:\n",
    "            fc += 1\n",
    "            m = int(sqrt(n))+1\n",
    "            while n%i == 0: n //= i\n",
    "        i += 4            \n",
    "    if n > 2: fc += 1\n",
    "    return fc"
   ]
  },
  {
   "cell_type": "code",
   "execution_count": 5,
   "metadata": {},
   "outputs": [],
   "source": [
    "def consecutive_4prime_factors():\n",
    "    cond = lambda i: all((count_factors(i+j)==4) for j in range(4))\n",
    "    return next(filter(cond, count()))"
   ]
  },
  {
   "cell_type": "code",
   "execution_count": 6,
   "metadata": {},
   "outputs": [],
   "source": [
    "assert consecutive_4prime_factors() == 134043"
   ]
  },
  {
   "cell_type": "markdown",
   "metadata": {},
   "source": [
    "#### Answer: 134043\n",
    "---"
   ]
  },
  {
   "cell_type": "markdown",
   "metadata": {},
   "source": [
    "## Self powers\n",
    "### Problem 48\n",
    "\n",
    "The series, $1^1 + 2^2 + 3^3 + ... + 10^{10} = 10405071317$.\n",
    "\n",
    "Find the last ten digits of the series, $1^1 + 2^2 + 3^3 + ... + 1000^{1000}$."
   ]
  },
  {
   "cell_type": "code",
   "execution_count": 7,
   "metadata": {},
   "outputs": [],
   "source": [
    "def self_powers(start=1, end=1001, digits=10):\n",
    "    MOD = 10**digits\n",
    "    return sum(pow(i,i,MOD) for i in range(start,end))%MOD"
   ]
  },
  {
   "cell_type": "code",
   "execution_count": 8,
   "metadata": {},
   "outputs": [],
   "source": [
    "assert self_powers() == 9110846700"
   ]
  },
  {
   "cell_type": "markdown",
   "metadata": {},
   "source": [
    "#### Answer: 9110846700\n",
    "---"
   ]
  },
  {
   "cell_type": "markdown",
   "metadata": {},
   "source": [
    "## Prime permutations\n",
    "### Problem 49\n",
    "\n",
    "The arithmetic sequence, 1487, 4817, 8147, in which each of the terms increases by 3330, is unusual in two ways: (i) each of the three terms are prime, and, (ii) each of the 4-digit numbers are permutations of one another.\n",
    "\n",
    "There are no arithmetic sequences made up of three 1-, 2-, or 3-digit primes, exhibiting this property, but there is one other 4-digit increasing sequence.\n",
    "\n",
    "What 12-digit number do you form by concatenating the three terms in this sequence?"
   ]
  },
  {
   "cell_type": "code",
   "execution_count": 9,
   "metadata": {},
   "outputs": [],
   "source": [
    "from sympy import primerange\n",
    "\n",
    "def next_prime_sequence(primes, index=0):\n",
    "    pset = set(primes)\n",
    "    isprime = lambda p: p in pset\n",
    "    samedig = lambda a,b,c: set(str(a)) == \\\n",
    "                            set(str(b)) == set(str(c))\n",
    "    for i in range(index, len(primes)):\n",
    "        pi = primes[i]\n",
    "        for j in range(i+1, len(primes)):\n",
    "            pj = primes[j]\n",
    "            pk = 2*pj - pi\n",
    "            if isprime(pk) and samedig(pi, pj, pk):\n",
    "                return f'{pi}{pj}{pk}'"
   ]
  },
  {
   "cell_type": "code",
   "execution_count": 10,
   "metadata": {},
   "outputs": [],
   "source": [
    "primes = [*primerange(1000, 10000)]\n",
    "index = primes.index(1487) + 1\n",
    "assert next_prime_sequence(primes, index) == '296962999629'"
   ]
  },
  {
   "cell_type": "markdown",
   "metadata": {},
   "source": [
    "#### Answer: 296962999629\n",
    "---"
   ]
  },
  {
   "cell_type": "markdown",
   "metadata": {},
   "source": [
    "## Consecutive prime sum\n",
    "### Problem 50\n",
    "\n",
    "The prime 41, can be written as the sum of six consecutive primes:\n",
    "\n",
    "<p><center>\n",
    "41 = 2 + 3 + 5 + 7 + 11 + 13\n",
    "</center></p>\n",
    "\n",
    "This is the longest sum of consecutive primes that adds to a prime below one-hundred.\n",
    "\n",
    "The longest sum of consecutive primes below one-thousand that adds to a prime, contains 21 terms, and is equal to 953.\n",
    "\n",
    "Which prime, below one-million, can be written as the sum of the most consecutive primes?"
   ]
  },
  {
   "cell_type": "code",
   "execution_count": 13,
   "metadata": {},
   "outputs": [],
   "source": [
    "from sympy import sieve\n",
    "\n",
    "def consecutive_prime_sum(primes):\n",
    "    pset = set(primes)\n",
    "    last = primes[-1]\n",
    "    max_count, max_sum = 0, 0\n",
    "    for j in range(1, len(primes)):\n",
    "        psum = primes[j]\n",
    "        for i in range(j-1, -1, -1):\n",
    "            psum += primes[i]\n",
    "            if psum >= last: break \n",
    "            pcount = j-i + 1\n",
    "            if pcount > max_count and psum in pset:\n",
    "                max_count, max_sum = pcount, psum\n",
    "    return max_count, max_sum"
   ]
  },
  {
   "cell_type": "code",
   "execution_count": 14,
   "metadata": {},
   "outputs": [],
   "source": [
    "primes = [*sieve.primerange(2, 1000000)]\n",
    "_, psum = consecutive_prime_sum(primes) \n",
    "assert psum == 997651"
   ]
  },
  {
   "cell_type": "markdown",
   "metadata": {},
   "source": [
    "#### Answer: 997651\n",
    "---"
   ]
  }
 ],
 "metadata": {
  "kernelspec": {
   "display_name": "Python 3",
   "language": "python",
   "name": "python3"
  },
  "language_info": {
   "codemirror_mode": {
    "name": "ipython",
    "version": 3
   },
   "file_extension": ".py",
   "mimetype": "text/x-python",
   "name": "python",
   "nbconvert_exporter": "python",
   "pygments_lexer": "ipython3",
   "version": "3.7.6"
  }
 },
 "nbformat": 4,
 "nbformat_minor": 4
}
