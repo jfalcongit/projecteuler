{
 "cells": [
  {
   "cell_type": "markdown",
   "metadata": {},
   "source": [
    "# Project Euler Problem Set in Python\n",
    "### Problems 16 - 20"
   ]
  },
  {
   "cell_type": "markdown",
   "metadata": {},
   "source": [
    "## Power digit sum\n",
    "### Problem #16\n",
    "    \n",
    "$2^{15} = 32768$ and the sum of its digits is $3 + 2 + 7 + 6 + 8 = 26.$\n",
    "\n",
    "What is the sum of the digits of the number $2^{1000}$?"
   ]
  },
  {
   "cell_type": "code",
   "execution_count": 1,
   "metadata": {},
   "outputs": [],
   "source": [
    "# bitwise exponentiation\n",
    "assert sum(int(d) for d in str(0x01<<1000)) == 1366 "
   ]
  },
  {
   "cell_type": "markdown",
   "metadata": {},
   "source": [
    "#### Answer: 1366\n",
    "---"
   ]
  },
  {
   "cell_type": "markdown",
   "metadata": {},
   "source": [
    "## Number letter counts\n",
    "### Problem #17\n",
    "    \n",
    "If the numbers 1 to 5 are written out in words: one, two, three, four, five, then there are 3 + 3 + 5 + 4 + 4 = 19 letters used in total.\n",
    "\n",
    "If all the numbers from 1 to 1000 (one thousand) inclusive were written out in words, how many letters would be used?\n",
    "\n",
    "##### NOTE: Do not count spaces or hyphens. For example, 342 (three hundred and forty-two) contains 23 letters and 115 (one hundred and fifteen) contains 20 letters. The use of \"and\" when writing out numbers is in compliance with British usage."
   ]
  },
  {
   "cell_type": "code",
   "execution_count": 2,
   "metadata": {},
   "outputs": [],
   "source": [
    "W = ['zero', 'one', 'two', 'three', 'four', 'five', 'six', 'seven', 'eight', 'nine', 'ten',\n",
    "     'eleven', 'twelve', 'thirteen', 'fourteen', 'fifteen', 'sixteen', 'seventeen', 'eighteen', 'nineteen',\n",
    "     'twenty', 'thirty', 'forty', 'fifty', 'sixty', 'seventy', 'eighty', 'ninety']\n",
    "\n",
    "def to_en_lang(n):\n",
    "    if 0 <= n < 20:\n",
    "        return W[n]\n",
    "    elif 20 <= n < 100:\n",
    "        return W[n//10+18] + (W[n%10] if n%10!=0 else '')\n",
    "    elif 100 <= n < 1000:\n",
    "        return W[n//100] + \"hundred\" + (\"and\" + to_en_lang(n%100) if n%100!= 0 else '')\n",
    "    elif 1000 <= n < 1000000:\n",
    "        return to_en_lang(n//1000) + \"thousand\" + (to_en_lang(n%1000) if n%1000 != 0 else '')\n",
    "    else:\n",
    "        raise ValueError()"
   ]
  },
  {
   "cell_type": "code",
   "execution_count": 3,
   "metadata": {},
   "outputs": [],
   "source": [
    "assert sum(len(to_en_lang(i)) for i in range(1, 1001)) == 21124"
   ]
  },
  {
   "cell_type": "markdown",
   "metadata": {},
   "source": [
    "#### Answer: 21124\n",
    "---"
   ]
  },
  {
   "cell_type": "markdown",
   "metadata": {},
   "source": [
    "## Maximum path sum I\n",
    "### Problem #8\n",
    "\n",
    "By starting at the top of the triangle below and moving to adjacent numbers on the row below, the maximum total from top to bottom is 23.\n",
    "\n",
    "<p><center><pre>\n",
    "<b>3</b>\n",
    "<b>7</b> 4\n",
    "2 <b>4</b> 6\n",
    "8 5 <b>9</b> 3\n",
    "</pre></center></p>\n",
    "\n",
    "That is, 3 + 7 + 4 + 9 = 23.\n",
    "Find the maximum total from top to bottom of the triangle below.\n",
    "\n",
    "<p><center><pre>\n",
    "75\n",
    "95 64\n",
    "17 47 82\n",
    "18 35 87 10\n",
    "20 04 82 47 65\n",
    "19 01 23 75 03 34\n",
    "88 02 77 73 07 63 67\n",
    "99 65 04 28 06 16 70 92\n",
    "41 41 26 56 83 40 80 70 33\n",
    "41 48 72 33 47 32 37 16 94 29\n",
    "53 71 44 65 25 43 91 52 97 51 14\n",
    "70 11 33 28 77 73 17 78 39 68 17 57\n",
    "91 71 52 38 17 14 91 43 58 50 27 29 48\n",
    "63 66 04 68 89 53 67 30 73 16 69 87 40 31\n",
    "04 62 98 27 23 09 70 98 73 93 38 53 60 04 23\n",
    "</pre></center></p>"
   ]
  },
  {
   "cell_type": "code",
   "execution_count": 4,
   "metadata": {
    "scrolled": false
   },
   "outputs": [],
   "source": [
    "TREE = [['75'],\\\n",
    "        ['95', '64'],\\\n",
    "        ['17', '47', '82'],\\\n",
    "        ['18', '35', '87', '10'],\\\n",
    "        ['20', '04', '82', '47', '65'],\\\n",
    "        ['19', '01', '23', '75', '03', '34'],\\\n",
    "        ['88', '02', '77', '73', '07', '63', '67'],\\\n",
    "        ['99', '65', '04', '28', '06', '16', '70', '92'],\\\n",
    "        ['41', '41', '26', '56', '83', '40', '80', '70', '33'],\\\n",
    "        ['41', '48', '72', '33', '47', '32', '37', '16', '94', '29'],\\\n",
    "        ['53', '71', '44', '65', '25', '43', '91', '52', '97', '51', '14'],\\\n",
    "        ['70', '11', '33', '28', '77', '73', '17', '78', '39', '68', '17', '57'],\\\n",
    "        ['91', '71', '52', '38', '17', '14', '91', '43', '58', '50', '27', '29', '48'],\\\n",
    "        ['63', '66', '04', '68', '89', '53', '67', '30', '73', '16', '69', '87', '40', '31'],\\\n",
    "        ['04', '62', '98', '27', '23', '09', '70', '98', '73', '93', '38', '53', '60', '04', '23']]\n",
    "for i in range(len(TREE)): TREE[i] = list(map(int, TREE[i])) # convert to int"
   ]
  },
  {
   "cell_type": "code",
   "execution_count": 5,
   "metadata": {},
   "outputs": [],
   "source": [
    "def max_path_sum(triangle: list) -> int:\n",
    "    \"\"\"triangle: a list of lists of ints starting at the triangle top (row[0])\n",
    "       -> sum of the max path\"\"\"\n",
    "    while len(triangle) > 1:\n",
    "        for i in range(len(triangle[-2])):\n",
    "            triangle[-2][i] += max(triangle[-1][i], triangle[-1][i+1])\n",
    "        triangle.pop(-1)\n",
    "    return triangle[0][0]"
   ]
  },
  {
   "cell_type": "code",
   "execution_count": 6,
   "metadata": {},
   "outputs": [],
   "source": [
    "assert max_path_sum(TREE) == 1074"
   ]
  },
  {
   "cell_type": "markdown",
   "metadata": {},
   "source": [
    "#### Answer: 1074\n",
    "---"
   ]
  },
  {
   "cell_type": "markdown",
   "metadata": {},
   "source": [
    "## Counting Sundays\n",
    "### Problem #19\n",
    "\n",
    "You are given the following information, but you may prefer to do some research for yourself.\n",
    "\n",
    "- 1 Jan 1900 was a Monday.\n",
    "- Thirty days has September, April, June and November.\n",
    "    All the rest have thirty-one, saving February alone, which has twenty-eight, rain or shine.\n",
    "    And on leap years, twenty-nine.\n",
    "- A leap year occurs on any year evenly divisible by 4, but not on a century unless it is divisible by 400.\n",
    "\n",
    "How many Sundays fell on the first of the month during the twentieth century (1 Jan 1901 to 31 Dec 2000)?"
   ]
  },
  {
   "cell_type": "code",
   "execution_count": 7,
   "metadata": {},
   "outputs": [],
   "source": [
    "from datetime import date"
   ]
  },
  {
   "cell_type": "code",
   "execution_count": 8,
   "metadata": {},
   "outputs": [],
   "source": [
    "assert sum(1 for y in range(1901, 2001) for m in range(1, 13) \n",
    "           if date(y, m, 1).weekday() == 6) == 171"
   ]
  },
  {
   "cell_type": "markdown",
   "metadata": {},
   "source": [
    "#### Answer: 171\n",
    "---"
   ]
  },
  {
   "cell_type": "markdown",
   "metadata": {},
   "source": [
    "## Factorial digit sum\n",
    "### Problem #20\n",
    "\n",
    "$n!$ means $n × (n − 1) × ... × 3 × 2 × 1$\n",
    "\n",
    "For example, $10! = 10 × 9 × ... × 3 × 2 × 1 = 3628800$,\n",
    "and the sum of the digits in the number $10!$ is $3 + 6 + 2 + 8 + 8 + 0 + 0 = 27$.\n",
    "\n",
    "Find the sum of the digits in the number $100!$"
   ]
  },
  {
   "cell_type": "code",
   "execution_count": 9,
   "metadata": {},
   "outputs": [],
   "source": [
    "from math import factorial"
   ]
  },
  {
   "cell_type": "code",
   "execution_count": 10,
   "metadata": {},
   "outputs": [],
   "source": [
    "assert sum(int(d) for d in str(factorial(100))) == 648"
   ]
  },
  {
   "cell_type": "markdown",
   "metadata": {},
   "source": [
    "#### Answer: 648\n",
    "---"
   ]
  },
  {
   "cell_type": "markdown",
   "metadata": {},
   "source": [
    "<h1>Bonus problem</h1>"
   ]
  },
  {
   "cell_type": "markdown",
   "metadata": {},
   "source": [
    "## Maximum path sum II\n",
    "### Problem #67\n",
    "\n",
    "By starting at the top of the triangle below and moving to adjacent numbers on the row below, the maximum total from top to bottom is 23.\n",
    "\n",
    "<p><center><pre>\n",
    "<b>3</b>\n",
    "<b>7</b> 4\n",
    "2 <b>4</b> 6\n",
    "8 5 <b>9</b> 3\n",
    "</pre></center></p>\n",
    "\n",
    "That is, 3 + 7 + 4 + 9 = 23.\n",
    "\n",
    "Find the maximum total from top to bottom in [triangle.txt](p067_triangle.txt) (right click and 'Save Link/Target As...'), a 15K text file containing a triangle with one-hundred rows.\n",
    "\n",
    "##### NOTE: This is a much more difficult version of Problem 18. It is not possible to try every route to solve this problem, as there are 299 altogether! If you could check one trillion (1012) routes every second it would take over twenty billion years to check them all. There is an efficient algorithm to solve it. ;o)"
   ]
  },
  {
   "cell_type": "code",
   "execution_count": 11,
   "metadata": {},
   "outputs": [],
   "source": [
    "with open('p067_triangle.txt') as f: \n",
    "    data = f.read().strip().split('\\n')\n",
    "    \n",
    "triangle = []\n",
    "for row in data:\n",
    "    triangle.append(list(map(int, row.strip().split(' '))))\n",
    "    \n",
    "# max_path_sum defined in P8\n",
    "assert max_path_sum(triangle) == 7273"
   ]
  },
  {
   "cell_type": "markdown",
   "metadata": {},
   "source": [
    "#### Answer: 7273\n",
    "---"
   ]
  },
  {
   "cell_type": "code",
   "execution_count": null,
   "metadata": {},
   "outputs": [],
   "source": []
  }
 ],
 "metadata": {
  "kernelspec": {
   "display_name": "Python 3",
   "language": "python",
   "name": "python3"
  },
  "language_info": {
   "codemirror_mode": {
    "name": "ipython",
    "version": 3
   },
   "file_extension": ".py",
   "mimetype": "text/x-python",
   "name": "python",
   "nbconvert_exporter": "python",
   "pygments_lexer": "ipython3",
   "version": "3.7.6"
  }
 },
 "nbformat": 4,
 "nbformat_minor": 4
}
