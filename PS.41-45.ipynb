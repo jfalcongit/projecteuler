{
 "cells": [
  {
   "cell_type": "markdown",
   "metadata": {},
   "source": [
    "# Project Euler Problem Set in Python\n",
    "### Problems 41 - 45"
   ]
  },
  {
   "cell_type": "markdown",
   "metadata": {},
   "source": [
    "## Pandigital prime\n",
    "### Problem #41\n",
    "\n",
    "We shall say that an n-digit number is pandigital if it makes use of all the digits 1 to n exactly once. For example, 2143 is a 4-digit pandigital and is also prime.\n",
    "\n",
    "What is the largest n-digit pandigital prime that exists?"
   ]
  },
  {
   "cell_type": "code",
   "execution_count": 1,
   "metadata": {},
   "outputs": [],
   "source": [
    "from sympy import isprime\n",
    "from itertools import permutations\n",
    "\n",
    "def max_pandigital_prime():\n",
    "    digits = '987654321'\n",
    "    while len(digits) > 0:\n",
    "        for dig_per in permutations(digits):\n",
    "            if dig_per[-1] in '379':\n",
    "                pan_dig = int(''.join(dig_per))\n",
    "                if pan_dig%3 and pan_dig%7 and isprime(pan_dig):\n",
    "                    return pan_dig\n",
    "        digits = digits[1:]\n",
    "    return None"
   ]
  },
  {
   "cell_type": "code",
   "execution_count": 2,
   "metadata": {},
   "outputs": [],
   "source": [
    "assert max_pandigital_prime() == 7652413"
   ]
  },
  {
   "cell_type": "markdown",
   "metadata": {},
   "source": [
    "#### Answer: 7652413\n",
    "---"
   ]
  },
  {
   "cell_type": "markdown",
   "metadata": {},
   "source": [
    "## Coded triangle numbers\n",
    "### Problem #42\n",
    "\n",
    "The nth term of the sequence of triangle numbers is given by, $tn = ½n(n+1)$; so the first ten triangle numbers are:\n",
    "\n",
    "<p>$$1, 3, 6, 10, 15, 21, 28, 36, 45, 55, ...$$</p>\n",
    "\n",
    "By converting each letter in a word to a number corresponding to its alphabetical position and adding these values we form a word value. For example, the word value for SKY is 19 + 11 + 25 = 55 = t10. If the word value is a triangle number then we shall call the word a triangle word.\n",
    "\n",
    "Using [words.txt](p042_words.txt) (right click and 'Save Link/Target As...'), a 16K text file containing nearly two-thousand common English words, how many are triangle words?"
   ]
  },
  {
   "cell_type": "code",
   "execution_count": 3,
   "metadata": {},
   "outputs": [],
   "source": [
    "from math import sqrt\n",
    "\n",
    "w_val = lambda w: sum(ord(c)-64 for c in w[1:-1])\n",
    "is_3a = lambda x: ((sqrt(8*x+1)-1)/2)%1==0\n",
    "\n",
    "with open('p042_words.txt') as f: \n",
    "    wc = sum(1 for _ in filter(is_3a, map(w_val, f.read().strip().split(','))))\n",
    "\n",
    "assert wc == 162"
   ]
  },
  {
   "cell_type": "markdown",
   "metadata": {},
   "source": [
    "#### Answer: 162\n",
    "---"
   ]
  },
  {
   "cell_type": "markdown",
   "metadata": {},
   "source": [
    "## Sub-string divisibility\n",
    "### Problem #43\n",
    "\n",
    "The number, 1406357289, is a 0 to 9 pandigital number because it is made up of each of the digits 0 to 9 in some order, but it also has a rather interesting sub-string divisibility property.\n",
    "\n",
    "Let d<sub>1</sub> be the 1<sup>st</sup> digit, d<sub>2</sub> be the 2<sup>nd</sup> digit, and so on. In this way, we note the following:\n",
    "\n",
    "&emsp; d<sup>2</sup>d<sup>3</sup>d<sup>4</sup> = 406 is divisible by 2<br>\n",
    "&emsp; d<sup>3</sup>d<sup>4</sup>d<sup>5</sup> = 063 is divisible by 3<br>\n",
    "&emsp; d<sup>4</sup>d<sup>5</sup>d<sup>6</sup> = 635 is divisible by 5<br>\n",
    "&emsp; d<sup>5</sup>d<sup>6</sup>d<sup>7</sup> = 357 is divisible by 7<br>\n",
    "&emsp; d<sup>6</sup>d<sup>7</sup>d<sup>8</sup> = 572 is divisible by 11<br>\n",
    "&emsp; d<sup>7</sup>d<sup>8</sup>d<sup>9</sup> = 728 is divisible by 13<br>\n",
    "&emsp; d<sup>8</sup>d<sup>9</sup>d<sup>10</sup> = 289 is divisible by 17\n",
    "\n",
    "Find the sum of all 0 to 9 pandigital numbers with this property."
   ]
  },
  {
   "cell_type": "code",
   "execution_count": 4,
   "metadata": {},
   "outputs": [],
   "source": [
    " def sum_pandigital_substrings():\n",
    "    res = [str(n) for n in range(102,999,17) if n%10 != n//10%10 != n//100 != n%10]\n",
    "    tmp = []\n",
    "    for f in (13,11,7,5,3,2,1):\n",
    "        if f == 5: digits = '02468'\n",
    "        elif f == 11: digits = '5'\n",
    "        else: digits = '0123456789'              \n",
    "        for s in res:\n",
    "            for d in digits:\n",
    "                if d not in s:  \n",
    "                    x = d+s\n",
    "                    n = int(x[:3])\n",
    "                    if n%f == 0: \n",
    "                        tmp.append(x)\n",
    "        res = tmp\n",
    "        tmp = []\n",
    "    return sum(map(int, res)), res"
   ]
  },
  {
   "cell_type": "code",
   "execution_count": 5,
   "metadata": {},
   "outputs": [],
   "source": [
    "acc, _ = sum_pandigital_substrings()\n",
    "assert acc == 16695334890"
   ]
  },
  {
   "cell_type": "markdown",
   "metadata": {},
   "source": [
    "#### Answer: 16695334890\n",
    "---"
   ]
  },
  {
   "cell_type": "markdown",
   "metadata": {},
   "source": [
    "## Pentagon numbers\n",
    "### Problem #44\n",
    "\n",
    "Pentagonal numbers are generated by the formula, $Pn=n(3n−1)/2$. The first ten pentagonal numbers are:\n",
    "\n",
    "<p>$$1, 5, 12, 22, 35, 51, 70, 92, 117, 145, ...$$</p>\n",
    "\n",
    "It can be seen that $P4 + P7 = 22 + 70 = 92 = P8$. However, their difference, $70 − 22 = 48$, is not pentagonal.\n",
    "\n",
    "Find the pair of pentagonal numbers, $Pj$ and $Pk$, for which their sum and difference are pentagonal and $D = |Pk − Pj|$ is minimised.\n",
    "\n",
    "What is the value of $D$?"
   ]
  },
  {
   "cell_type": "code",
   "execution_count": 6,
   "metadata": {},
   "outputs": [],
   "source": [
    "from itertools import count\n",
    "\n",
    "def min_pentagonal_diff():\n",
    "    pset, pdic = {*()}, {}\n",
    "    pk = 0\n",
    "    for n in count(0): \n",
    "        pk += 3*n + 1\n",
    "        if pk in pdic: \n",
    "            return pdic[pk]\n",
    "        for pj in pset:\n",
    "            d = pk - pj\n",
    "            if d in pset: \n",
    "                pdic[pk + pj] = d\n",
    "        pset.add(pk)"
   ]
  },
  {
   "cell_type": "code",
   "execution_count": 7,
   "metadata": {},
   "outputs": [],
   "source": [
    "assert min_pentagonal_diff() == 5482660"
   ]
  },
  {
   "cell_type": "markdown",
   "metadata": {},
   "source": [
    "#### Answer: 5482660\n",
    "---"
   ]
  },
  {
   "cell_type": "markdown",
   "metadata": {},
   "source": [
    "## Triangular, pentagonal, and hexagonal\n",
    "### Problem #45\n",
    "\n",
    "Triangle, pentagonal, and hexagonal numbers are generated by the following formulae:\n",
    "\n",
    "Triangle $\\quad Tn=n(n+1)/2 \\quad$ 1, 3, 6, 10, 15, ...  \n",
    "\n",
    "Pentagonal $\\quad Pn=n(3n−1)/2 \\quad$ 1, 5, 12, 22, 35, ...  \n",
    "\n",
    "Hexagonal $\\quad Hn=n(2n−1) \\quad$ 1, 6, 15, 28, 45, ...  \n",
    "\n",
    "It can be verified that T285 = P165 = H143 = 40755.  \n",
    "\n",
    "Find the next triangle number that is also pentagonal and hexagonal."
   ]
  },
  {
   "cell_type": "code",
   "execution_count": 8,
   "metadata": {},
   "outputs": [],
   "source": [
    "from math import sqrt\n",
    "from itertools import count\n",
    "\n",
    "hexagonal = lambda x: x*(2*x-1)\n",
    "is_pentagonal = lambda x: (.5+sqrt(.25+6*x))/3%1==0\n",
    "\n",
    "def next_tri_pent_hex(start):\n",
    "    return next(filter(is_pentagonal, map(hexagonal, count(start))))"
   ]
  },
  {
   "cell_type": "code",
   "execution_count": 9,
   "metadata": {},
   "outputs": [],
   "source": [
    "assert next_tri_pent_hex(144) == 1533776805"
   ]
  },
  {
   "cell_type": "markdown",
   "metadata": {},
   "source": [
    "#### Answer: 1533776805\n",
    "---"
   ]
  }
 ],
 "metadata": {
  "kernelspec": {
   "display_name": "Python 3",
   "language": "python",
   "name": "python3"
  },
  "language_info": {
   "codemirror_mode": {
    "name": "ipython",
    "version": 3
   },
   "file_extension": ".py",
   "mimetype": "text/x-python",
   "name": "python",
   "nbconvert_exporter": "python",
   "pygments_lexer": "ipython3",
   "version": "3.7.6"
  }
 },
 "nbformat": 4,
 "nbformat_minor": 4
}
